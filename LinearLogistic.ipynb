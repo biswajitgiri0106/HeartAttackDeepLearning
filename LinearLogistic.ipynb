{
  "nbformat": 4,
  "nbformat_minor": 0,
  "metadata": {
    "colab": {
      "provenance": []
    },
    "kernelspec": {
      "name": "python3",
      "display_name": "Python 3"
    },
    "language_info": {
      "name": "python"
    }
  },
  "cells": [
    {
      "cell_type": "code",
      "execution_count": null,
      "metadata": {
        "id": "Rf-zIkwdFURB"
      },
      "outputs": [],
      "source": [
        "import pandas as pd\n",
        "import numpy as np\n",
        "import matplotlib.pyplot as plt"
      ]
    },
    {
      "cell_type": "code",
      "source": [
        "df = pd.read_csv('/content/echocardiogram.csv')"
      ],
      "metadata": {
        "id": "eRFPhniKFYNo"
      },
      "execution_count": null,
      "outputs": []
    },
    {
      "cell_type": "code",
      "source": [
        "df"
      ],
      "metadata": {
        "colab": {
          "base_uri": "https://localhost:8080/",
          "height": 502
        },
        "id": "YprXyeYpGKCN",
        "outputId": "113168a4-d22e-4c81-aac5-37859b824f02"
      },
      "execution_count": null,
      "outputs": [
        {
          "output_type": "execute_result",
          "data": {
            "text/plain": [
              "    survival  still-alive  age-at-heart-attack  pericardial-effusion  \\\n",
              "0      11.00            0                 71.0                     0   \n",
              "1      19.00            0                 72.0                     0   \n",
              "2      16.00            0                 55.0                     0   \n",
              "3      57.00            0                 60.0                     0   \n",
              "4      19.00            1                 57.0                     0   \n",
              "..       ...          ...                  ...                   ...   \n",
              "69      1.25            1                 63.0                     0   \n",
              "70     24.00            0                 59.0                     0   \n",
              "71     25.00            0                 57.0                     0   \n",
              "72      0.75            1                 78.0                     0   \n",
              "73      3.00            1                 62.0                     0   \n",
              "\n",
              "    fractional-shortening    epss   lvdd  wall-motion-score  \\\n",
              "0                   0.260   9.000  4.600              14.00   \n",
              "1                   0.380   6.000  4.100              14.00   \n",
              "2                   0.260   4.000  3.420              14.00   \n",
              "3                   0.253  12.062  4.603              16.00   \n",
              "4                   0.160  22.000  5.750              18.00   \n",
              "..                    ...     ...    ...                ...   \n",
              "69                  0.300   6.900  3.520              18.16   \n",
              "70                  0.170  14.300  5.490              13.50   \n",
              "71                  0.228   9.700  4.290              11.00   \n",
              "72                  0.230  40.000  6.230              14.00   \n",
              "73                  0.260   7.600  4.420              14.00   \n",
              "\n",
              "    wall-motion-index  alive-at-1  \n",
              "0                1.00           0  \n",
              "1                1.70           0  \n",
              "2                1.00           0  \n",
              "3                1.45           0  \n",
              "4                2.25           0  \n",
              "..                ...         ...  \n",
              "69               1.51           1  \n",
              "70               1.50           0  \n",
              "71               1.00           0  \n",
              "72               1.40           1  \n",
              "73               1.00           1  \n",
              "\n",
              "[74 rows x 10 columns]"
            ],
            "text/html": [
              "\n",
              "  <div id=\"df-9743da68-a2dc-4a28-88e7-f7770dc472f1\">\n",
              "    <div class=\"colab-df-container\">\n",
              "      <div>\n",
              "<style scoped>\n",
              "    .dataframe tbody tr th:only-of-type {\n",
              "        vertical-align: middle;\n",
              "    }\n",
              "\n",
              "    .dataframe tbody tr th {\n",
              "        vertical-align: top;\n",
              "    }\n",
              "\n",
              "    .dataframe thead th {\n",
              "        text-align: right;\n",
              "    }\n",
              "</style>\n",
              "<table border=\"1\" class=\"dataframe\">\n",
              "  <thead>\n",
              "    <tr style=\"text-align: right;\">\n",
              "      <th></th>\n",
              "      <th>survival</th>\n",
              "      <th>still-alive</th>\n",
              "      <th>age-at-heart-attack</th>\n",
              "      <th>pericardial-effusion</th>\n",
              "      <th>fractional-shortening</th>\n",
              "      <th>epss</th>\n",
              "      <th>lvdd</th>\n",
              "      <th>wall-motion-score</th>\n",
              "      <th>wall-motion-index</th>\n",
              "      <th>alive-at-1</th>\n",
              "    </tr>\n",
              "  </thead>\n",
              "  <tbody>\n",
              "    <tr>\n",
              "      <th>0</th>\n",
              "      <td>11.00</td>\n",
              "      <td>0</td>\n",
              "      <td>71.0</td>\n",
              "      <td>0</td>\n",
              "      <td>0.260</td>\n",
              "      <td>9.000</td>\n",
              "      <td>4.600</td>\n",
              "      <td>14.00</td>\n",
              "      <td>1.00</td>\n",
              "      <td>0</td>\n",
              "    </tr>\n",
              "    <tr>\n",
              "      <th>1</th>\n",
              "      <td>19.00</td>\n",
              "      <td>0</td>\n",
              "      <td>72.0</td>\n",
              "      <td>0</td>\n",
              "      <td>0.380</td>\n",
              "      <td>6.000</td>\n",
              "      <td>4.100</td>\n",
              "      <td>14.00</td>\n",
              "      <td>1.70</td>\n",
              "      <td>0</td>\n",
              "    </tr>\n",
              "    <tr>\n",
              "      <th>2</th>\n",
              "      <td>16.00</td>\n",
              "      <td>0</td>\n",
              "      <td>55.0</td>\n",
              "      <td>0</td>\n",
              "      <td>0.260</td>\n",
              "      <td>4.000</td>\n",
              "      <td>3.420</td>\n",
              "      <td>14.00</td>\n",
              "      <td>1.00</td>\n",
              "      <td>0</td>\n",
              "    </tr>\n",
              "    <tr>\n",
              "      <th>3</th>\n",
              "      <td>57.00</td>\n",
              "      <td>0</td>\n",
              "      <td>60.0</td>\n",
              "      <td>0</td>\n",
              "      <td>0.253</td>\n",
              "      <td>12.062</td>\n",
              "      <td>4.603</td>\n",
              "      <td>16.00</td>\n",
              "      <td>1.45</td>\n",
              "      <td>0</td>\n",
              "    </tr>\n",
              "    <tr>\n",
              "      <th>4</th>\n",
              "      <td>19.00</td>\n",
              "      <td>1</td>\n",
              "      <td>57.0</td>\n",
              "      <td>0</td>\n",
              "      <td>0.160</td>\n",
              "      <td>22.000</td>\n",
              "      <td>5.750</td>\n",
              "      <td>18.00</td>\n",
              "      <td>2.25</td>\n",
              "      <td>0</td>\n",
              "    </tr>\n",
              "    <tr>\n",
              "      <th>...</th>\n",
              "      <td>...</td>\n",
              "      <td>...</td>\n",
              "      <td>...</td>\n",
              "      <td>...</td>\n",
              "      <td>...</td>\n",
              "      <td>...</td>\n",
              "      <td>...</td>\n",
              "      <td>...</td>\n",
              "      <td>...</td>\n",
              "      <td>...</td>\n",
              "    </tr>\n",
              "    <tr>\n",
              "      <th>69</th>\n",
              "      <td>1.25</td>\n",
              "      <td>1</td>\n",
              "      <td>63.0</td>\n",
              "      <td>0</td>\n",
              "      <td>0.300</td>\n",
              "      <td>6.900</td>\n",
              "      <td>3.520</td>\n",
              "      <td>18.16</td>\n",
              "      <td>1.51</td>\n",
              "      <td>1</td>\n",
              "    </tr>\n",
              "    <tr>\n",
              "      <th>70</th>\n",
              "      <td>24.00</td>\n",
              "      <td>0</td>\n",
              "      <td>59.0</td>\n",
              "      <td>0</td>\n",
              "      <td>0.170</td>\n",
              "      <td>14.300</td>\n",
              "      <td>5.490</td>\n",
              "      <td>13.50</td>\n",
              "      <td>1.50</td>\n",
              "      <td>0</td>\n",
              "    </tr>\n",
              "    <tr>\n",
              "      <th>71</th>\n",
              "      <td>25.00</td>\n",
              "      <td>0</td>\n",
              "      <td>57.0</td>\n",
              "      <td>0</td>\n",
              "      <td>0.228</td>\n",
              "      <td>9.700</td>\n",
              "      <td>4.290</td>\n",
              "      <td>11.00</td>\n",
              "      <td>1.00</td>\n",
              "      <td>0</td>\n",
              "    </tr>\n",
              "    <tr>\n",
              "      <th>72</th>\n",
              "      <td>0.75</td>\n",
              "      <td>1</td>\n",
              "      <td>78.0</td>\n",
              "      <td>0</td>\n",
              "      <td>0.230</td>\n",
              "      <td>40.000</td>\n",
              "      <td>6.230</td>\n",
              "      <td>14.00</td>\n",
              "      <td>1.40</td>\n",
              "      <td>1</td>\n",
              "    </tr>\n",
              "    <tr>\n",
              "      <th>73</th>\n",
              "      <td>3.00</td>\n",
              "      <td>1</td>\n",
              "      <td>62.0</td>\n",
              "      <td>0</td>\n",
              "      <td>0.260</td>\n",
              "      <td>7.600</td>\n",
              "      <td>4.420</td>\n",
              "      <td>14.00</td>\n",
              "      <td>1.00</td>\n",
              "      <td>1</td>\n",
              "    </tr>\n",
              "  </tbody>\n",
              "</table>\n",
              "<p>74 rows × 10 columns</p>\n",
              "</div>\n",
              "      <button class=\"colab-df-convert\" onclick=\"convertToInteractive('df-9743da68-a2dc-4a28-88e7-f7770dc472f1')\"\n",
              "              title=\"Convert this dataframe to an interactive table.\"\n",
              "              style=\"display:none;\">\n",
              "        \n",
              "  <svg xmlns=\"http://www.w3.org/2000/svg\" height=\"24px\"viewBox=\"0 0 24 24\"\n",
              "       width=\"24px\">\n",
              "    <path d=\"M0 0h24v24H0V0z\" fill=\"none\"/>\n",
              "    <path d=\"M18.56 5.44l.94 2.06.94-2.06 2.06-.94-2.06-.94-.94-2.06-.94 2.06-2.06.94zm-11 1L8.5 8.5l.94-2.06 2.06-.94-2.06-.94L8.5 2.5l-.94 2.06-2.06.94zm10 10l.94 2.06.94-2.06 2.06-.94-2.06-.94-.94-2.06-.94 2.06-2.06.94z\"/><path d=\"M17.41 7.96l-1.37-1.37c-.4-.4-.92-.59-1.43-.59-.52 0-1.04.2-1.43.59L10.3 9.45l-7.72 7.72c-.78.78-.78 2.05 0 2.83L4 21.41c.39.39.9.59 1.41.59.51 0 1.02-.2 1.41-.59l7.78-7.78 2.81-2.81c.8-.78.8-2.07 0-2.86zM5.41 20L4 18.59l7.72-7.72 1.47 1.35L5.41 20z\"/>\n",
              "  </svg>\n",
              "      </button>\n",
              "      \n",
              "  <style>\n",
              "    .colab-df-container {\n",
              "      display:flex;\n",
              "      flex-wrap:wrap;\n",
              "      gap: 12px;\n",
              "    }\n",
              "\n",
              "    .colab-df-convert {\n",
              "      background-color: #E8F0FE;\n",
              "      border: none;\n",
              "      border-radius: 50%;\n",
              "      cursor: pointer;\n",
              "      display: none;\n",
              "      fill: #1967D2;\n",
              "      height: 32px;\n",
              "      padding: 0 0 0 0;\n",
              "      width: 32px;\n",
              "    }\n",
              "\n",
              "    .colab-df-convert:hover {\n",
              "      background-color: #E2EBFA;\n",
              "      box-shadow: 0px 1px 2px rgba(60, 64, 67, 0.3), 0px 1px 3px 1px rgba(60, 64, 67, 0.15);\n",
              "      fill: #174EA6;\n",
              "    }\n",
              "\n",
              "    [theme=dark] .colab-df-convert {\n",
              "      background-color: #3B4455;\n",
              "      fill: #D2E3FC;\n",
              "    }\n",
              "\n",
              "    [theme=dark] .colab-df-convert:hover {\n",
              "      background-color: #434B5C;\n",
              "      box-shadow: 0px 1px 3px 1px rgba(0, 0, 0, 0.15);\n",
              "      filter: drop-shadow(0px 1px 2px rgba(0, 0, 0, 0.3));\n",
              "      fill: #FFFFFF;\n",
              "    }\n",
              "  </style>\n",
              "\n",
              "      <script>\n",
              "        const buttonEl =\n",
              "          document.querySelector('#df-9743da68-a2dc-4a28-88e7-f7770dc472f1 button.colab-df-convert');\n",
              "        buttonEl.style.display =\n",
              "          google.colab.kernel.accessAllowed ? 'block' : 'none';\n",
              "\n",
              "        async function convertToInteractive(key) {\n",
              "          const element = document.querySelector('#df-9743da68-a2dc-4a28-88e7-f7770dc472f1');\n",
              "          const dataTable =\n",
              "            await google.colab.kernel.invokeFunction('convertToInteractive',\n",
              "                                                     [key], {});\n",
              "          if (!dataTable) return;\n",
              "\n",
              "          const docLinkHtml = 'Like what you see? Visit the ' +\n",
              "            '<a target=\"_blank\" href=https://colab.research.google.com/notebooks/data_table.ipynb>data table notebook</a>'\n",
              "            + ' to learn more about interactive tables.';\n",
              "          element.innerHTML = '';\n",
              "          dataTable['output_type'] = 'display_data';\n",
              "          await google.colab.output.renderOutput(dataTable, element);\n",
              "          const docLink = document.createElement('div');\n",
              "          docLink.innerHTML = docLinkHtml;\n",
              "          element.appendChild(docLink);\n",
              "        }\n",
              "      </script>\n",
              "    </div>\n",
              "  </div>\n",
              "  "
            ]
          },
          "metadata": {},
          "execution_count": 3
        }
      ]
    },
    {
      "cell_type": "code",
      "source": [
        "df = pd.DataFrame(df)"
      ],
      "metadata": {
        "id": "h-11tD11GLck"
      },
      "execution_count": null,
      "outputs": []
    },
    {
      "cell_type": "code",
      "source": [
        "print(df.dtypes)"
      ],
      "metadata": {
        "colab": {
          "base_uri": "https://localhost:8080/"
        },
        "id": "FKfpG1XvGPyf",
        "outputId": "65dbd8e8-3aac-4fdc-cdde-4790e4b48322"
      },
      "execution_count": null,
      "outputs": [
        {
          "output_type": "stream",
          "name": "stdout",
          "text": [
            "survival                 float64\n",
            "still-alive                int64\n",
            "age-at-heart-attack      float64\n",
            "pericardial-effusion       int64\n",
            "fractional-shortening    float64\n",
            "epss                     float64\n",
            "lvdd                     float64\n",
            "wall-motion-score        float64\n",
            "wall-motion-index        float64\n",
            "alive-at-1                 int64\n",
            "dtype: object\n"
          ]
        }
      ]
    },
    {
      "cell_type": "code",
      "source": [
        "df[\"survival\"].values"
      ],
      "metadata": {
        "colab": {
          "base_uri": "https://localhost:8080/"
        },
        "id": "54tglcrOGSoD",
        "outputId": "4e3a3967-e0f8-41b4-ff5a-3febd0779901"
      },
      "execution_count": null,
      "outputs": [
        {
          "output_type": "execute_result",
          "data": {
            "text/plain": [
              "array([1.10e+01, 1.90e+01, 1.60e+01, 5.70e+01, 1.90e+01, 2.60e+01,\n",
              "       1.30e+01, 5.00e+01, 1.90e+01, 2.50e+01, 1.00e+01, 5.20e+01,\n",
              "       5.20e+01, 4.40e+01, 5.00e-01, 2.40e+01, 5.00e-01, 5.00e-01,\n",
              "       2.20e+01, 1.00e+00, 7.50e-01, 7.50e-01, 5.00e-01, 5.00e+00,\n",
              "       3.60e+01, 3.50e+01, 2.60e+01, 1.60e+01, 1.00e+00, 1.90e+01,\n",
              "       3.20e+01, 1.60e+01, 4.00e+01, 4.60e+01, 1.95e+01, 2.00e+01,\n",
              "       2.50e-01, 2.00e+00, 7.00e+00, 1.20e+01, 1.00e+00, 1.00e+01,\n",
              "       4.50e+01, 2.20e+01, 5.30e+01, 2.60e+01, 2.60e+01, 4.90e+01,\n",
              "       4.90e+01, 4.70e+01, 4.10e+01, 2.50e-01, 3.30e+01, 2.90e+01,\n",
              "       4.10e+01, 1.50e+01, 3.00e-02, 1.20e+01, 2.70e+01, 7.50e-01,\n",
              "       7.50e-01, 5.50e+01, 5.30e+01,      nan, 4.00e+01, 5.00e+00,\n",
              "       4.00e+00, 3.30e+01, 2.20e+01, 1.25e+00, 2.40e+01, 2.50e+01,\n",
              "       7.50e-01, 3.00e+00])"
            ]
          },
          "metadata": {},
          "execution_count": 6
        }
      ]
    },
    {
      "cell_type": "code",
      "source": [
        "df[\"still-alive\"].values"
      ],
      "metadata": {
        "colab": {
          "base_uri": "https://localhost:8080/"
        },
        "id": "WewRhNLXGYBh",
        "outputId": "61bbcf3e-660b-4d86-a34e-deafb9ae4074"
      },
      "execution_count": null,
      "outputs": [
        {
          "output_type": "execute_result",
          "data": {
            "text/plain": [
              "array([0, 0, 0, 0, 1, 0, 0, 0, 0, 0, 1, 0, 0, 0, 1, 0, 1, 1, 1, 1, 1, 1,\n",
              "       1, 1, 0, 0, 0, 0, 1, 0, 0, 0, 0, 0, 1, 1, 1, 1, 1, 0, 1, 0, 0, 0,\n",
              "       0, 0, 0, 0, 0, 0, 0, 1, 0, 0, 0, 0, 1, 0, 0, 1, 1, 0, 0, 1, 1, 1,\n",
              "       1, 0, 0, 1, 0, 0, 1, 1])"
            ]
          },
          "metadata": {},
          "execution_count": 7
        }
      ]
    },
    {
      "cell_type": "code",
      "source": [
        "df['age-at-heart-attack'].values"
      ],
      "metadata": {
        "colab": {
          "base_uri": "https://localhost:8080/"
        },
        "id": "ssXlxcjzGc7O",
        "outputId": "33266eb9-02f5-4b67-ffcd-19d99c316c9c"
      },
      "execution_count": null,
      "outputs": [
        {
          "output_type": "execute_result",
          "data": {
            "text/plain": [
              "array([71.   , 72.   , 55.   , 60.   , 57.   , 68.   , 62.   , 60.   ,\n",
              "       46.   , 54.   , 77.   , 62.   , 73.   , 60.   , 62.   , 55.   ,\n",
              "       69.   , 62.529, 66.   , 66.   , 69.   , 85.   , 73.   , 71.   ,\n",
              "       55.   , 63.   , 61.   , 63.   , 65.   , 68.   , 54.   , 70.   ,\n",
              "       79.   , 56.   , 81.   , 59.   , 63.   , 56.   , 61.   , 58.   ,\n",
              "       60.   , 66.   , 63.   , 57.   , 70.   , 79.   , 72.   , 51.   ,\n",
              "       70.   , 65.   , 78.   , 86.   , 56.   , 60.   , 59.   , 54.   ,\n",
              "          nan, 64.   , 54.   , 78.   , 61.   , 55.   , 59.   , 61.   ,\n",
              "       74.   , 65.   , 58.   , 66.   , 70.   , 63.   , 59.   , 57.   ,\n",
              "       78.   , 62.   ])"
            ]
          },
          "metadata": {},
          "execution_count": 8
        }
      ]
    },
    {
      "cell_type": "code",
      "source": [
        "mean_values=df[['survival','still-alive']].mean()\n",
        "print(mean_values)"
      ],
      "metadata": {
        "colab": {
          "base_uri": "https://localhost:8080/"
        },
        "id": "DlFd__HtG9AA",
        "outputId": "a1d86e50-442a-4142-889c-99851d184a67"
      },
      "execution_count": null,
      "outputs": [
        {
          "output_type": "stream",
          "name": "stdout",
          "text": [
            "survival       21.781233\n",
            "still-alive     0.391892\n",
            "dtype: float64\n"
          ]
        }
      ]
    },
    {
      "cell_type": "code",
      "source": [
        "df[\"survival\"].fillna(value=df[\"survival\"].mean(), inplace=True)"
      ],
      "metadata": {
        "id": "5lSbvRn1G-dY"
      },
      "execution_count": null,
      "outputs": []
    },
    {
      "cell_type": "code",
      "source": [
        "df['survival'].values"
      ],
      "metadata": {
        "colab": {
          "base_uri": "https://localhost:8080/"
        },
        "id": "jU22UwVxHDBV",
        "outputId": "c6338367-7451-42c4-a670-5dcbd079b986"
      },
      "execution_count": null,
      "outputs": [
        {
          "output_type": "execute_result",
          "data": {
            "text/plain": [
              "array([1.10000000e+01, 1.90000000e+01, 1.60000000e+01, 5.70000000e+01,\n",
              "       1.90000000e+01, 2.60000000e+01, 1.30000000e+01, 5.00000000e+01,\n",
              "       1.90000000e+01, 2.50000000e+01, 1.00000000e+01, 5.20000000e+01,\n",
              "       5.20000000e+01, 4.40000000e+01, 5.00000000e-01, 2.40000000e+01,\n",
              "       5.00000000e-01, 5.00000000e-01, 2.20000000e+01, 1.00000000e+00,\n",
              "       7.50000000e-01, 7.50000000e-01, 5.00000000e-01, 5.00000000e+00,\n",
              "       3.60000000e+01, 3.50000000e+01, 2.60000000e+01, 1.60000000e+01,\n",
              "       1.00000000e+00, 1.90000000e+01, 3.20000000e+01, 1.60000000e+01,\n",
              "       4.00000000e+01, 4.60000000e+01, 1.95000000e+01, 2.00000000e+01,\n",
              "       2.50000000e-01, 2.00000000e+00, 7.00000000e+00, 1.20000000e+01,\n",
              "       1.00000000e+00, 1.00000000e+01, 4.50000000e+01, 2.20000000e+01,\n",
              "       5.30000000e+01, 2.60000000e+01, 2.60000000e+01, 4.90000000e+01,\n",
              "       4.90000000e+01, 4.70000000e+01, 4.10000000e+01, 2.50000000e-01,\n",
              "       3.30000000e+01, 2.90000000e+01, 4.10000000e+01, 1.50000000e+01,\n",
              "       3.00000000e-02, 1.20000000e+01, 2.70000000e+01, 7.50000000e-01,\n",
              "       7.50000000e-01, 5.50000000e+01, 5.30000000e+01, 2.17812329e+01,\n",
              "       4.00000000e+01, 5.00000000e+00, 4.00000000e+00, 3.30000000e+01,\n",
              "       2.20000000e+01, 1.25000000e+00, 2.40000000e+01, 2.50000000e+01,\n",
              "       7.50000000e-01, 3.00000000e+00])"
            ]
          },
          "metadata": {},
          "execution_count": 11
        }
      ]
    },
    {
      "cell_type": "code",
      "source": [
        "df[\"age-at-heart-attack\"].fillna(value=df[\"age-at-heart-attack\"].mean(), inplace=True)"
      ],
      "metadata": {
        "id": "l55ApeqqHJIz"
      },
      "execution_count": null,
      "outputs": []
    },
    {
      "cell_type": "code",
      "source": [
        "df['age-at-heart-attack'].values"
      ],
      "metadata": {
        "colab": {
          "base_uri": "https://localhost:8080/"
        },
        "id": "zFoB9bDoHPD_",
        "outputId": "bf703841-f18c-47e7-8034-f49952e76aec"
      },
      "execution_count": null,
      "outputs": [
        {
          "output_type": "execute_result",
          "data": {
            "text/plain": [
              "array([71.        , 72.        , 55.        , 60.        , 57.        ,\n",
              "       68.        , 62.        , 60.        , 46.        , 54.        ,\n",
              "       77.        , 62.        , 73.        , 60.        , 62.        ,\n",
              "       55.        , 69.        , 62.529     , 66.        , 66.        ,\n",
              "       69.        , 85.        , 73.        , 71.        , 55.        ,\n",
              "       63.        , 61.        , 63.        , 65.        , 68.        ,\n",
              "       54.        , 70.        , 79.        , 56.        , 81.        ,\n",
              "       59.        , 63.        , 56.        , 61.        , 58.        ,\n",
              "       60.        , 66.        , 63.        , 57.        , 70.        ,\n",
              "       79.        , 72.        , 51.        , 70.        , 65.        ,\n",
              "       78.        , 86.        , 56.        , 60.        , 59.        ,\n",
              "       54.        , 64.34971233, 64.        , 54.        , 78.        ,\n",
              "       61.        , 55.        , 59.        , 61.        , 74.        ,\n",
              "       65.        , 58.        , 66.        , 70.        , 63.        ,\n",
              "       59.        , 57.        , 78.        , 62.        ])"
            ]
          },
          "metadata": {},
          "execution_count": 13
        }
      ]
    },
    {
      "cell_type": "code",
      "source": [
        "df[\"pericardial-effusion\"].fillna(value=df[\"pericardial-effusion\"].mean(), inplace=True)"
      ],
      "metadata": {
        "id": "CLKX1GAOHSqL"
      },
      "execution_count": null,
      "outputs": []
    },
    {
      "cell_type": "code",
      "source": [
        "df['pericardial-effusion'].values"
      ],
      "metadata": {
        "colab": {
          "base_uri": "https://localhost:8080/"
        },
        "id": "CGUgr8cHHeh5",
        "outputId": "ca825886-4628-4221-bd3f-127eee997b00"
      },
      "execution_count": null,
      "outputs": [
        {
          "output_type": "execute_result",
          "data": {
            "text/plain": [
              "array([0, 0, 0, 0, 0, 0, 0, 0, 0, 0, 0, 1, 0, 0, 0, 1, 1, 1, 0, 1, 0, 1,\n",
              "       0, 0, 1, 0, 0, 1, 0, 0, 0, 1, 0, 0, 0, 0, 1, 1, 1, 0, 0, 0, 0, 0,\n",
              "       0, 0, 0, 0, 1, 0, 0, 0, 0, 0, 0, 0, 0, 0, 1, 0, 0, 0, 0, 0, 0, 1,\n",
              "       0, 0, 0, 0, 0, 0, 0, 0])"
            ]
          },
          "metadata": {},
          "execution_count": 15
        }
      ]
    },
    {
      "cell_type": "code",
      "source": [
        "df[\"fractional-shortening\"].fillna(value=df[\"fractional-shortening\"].mean(), inplace=True)"
      ],
      "metadata": {
        "id": "vLW9ZPvFHic4"
      },
      "execution_count": null,
      "outputs": []
    },
    {
      "cell_type": "code",
      "source": [
        "df['fractional-shortening'].values"
      ],
      "metadata": {
        "colab": {
          "base_uri": "https://localhost:8080/"
        },
        "id": "DzWTk4lkHmXx",
        "outputId": "a2a56bee-995b-4a2b-df81-7d22c6e54407"
      },
      "execution_count": null,
      "outputs": [
        {
          "output_type": "execute_result",
          "data": {
            "text/plain": [
              "array([0.26      , 0.38      , 0.26      , 0.253     , 0.16      ,\n",
              "       0.26      , 0.23      , 0.33      , 0.34      , 0.14      ,\n",
              "       0.13      , 0.45      , 0.33      , 0.15      , 0.12      ,\n",
              "       0.25      , 0.26      , 0.07      , 0.09      , 0.22      ,\n",
              "       0.15      , 0.18      , 0.23      , 0.17      , 0.21      ,\n",
              "       0.21905714, 0.61      , 0.21905714, 0.06      , 0.51      ,\n",
              "       0.35      , 0.27      , 0.15      , 0.33      , 0.12      ,\n",
              "       0.03      , 0.21905714, 0.04      , 0.27      , 0.3       ,\n",
              "       0.01      , 0.29      , 0.15      , 0.13      , 0.1       ,\n",
              "       0.17      , 0.187     , 0.16      , 0.25      , 0.36      ,\n",
              "       0.06      , 0.225     , 0.25      , 0.12      , 0.29      ,\n",
              "       0.217     , 0.26      , 0.2       , 0.07      , 0.05      ,\n",
              "       0.21905714, 0.28      , 0.344     , 0.2       , 0.2       ,\n",
              "       0.16      , 0.17      , 0.2       , 0.38      , 0.3       ,\n",
              "       0.17      , 0.228     , 0.23      , 0.26      ])"
            ]
          },
          "metadata": {},
          "execution_count": 17
        }
      ]
    },
    {
      "cell_type": "code",
      "source": [
        "df[\"epss\"].fillna(value=df[\"epss\"].mean(), inplace=True)"
      ],
      "metadata": {
        "id": "NEtwSjONHxxX"
      },
      "execution_count": null,
      "outputs": []
    },
    {
      "cell_type": "code",
      "source": [
        "df['epss'].values"
      ],
      "metadata": {
        "colab": {
          "base_uri": "https://localhost:8080/"
        },
        "id": "-dXoYuiaH1D1",
        "outputId": "45e2b8e3-a4de-4064-dbeb-bea5a51dbe2b"
      },
      "execution_count": null,
      "outputs": [
        {
          "output_type": "execute_result",
          "data": {
            "text/plain": [
              "array([ 9.        ,  6.        ,  4.        , 12.062     , 22.        ,\n",
              "        5.        , 31.        ,  8.        ,  0.        , 13.        ,\n",
              "       16.        ,  9.        ,  6.        , 10.        , 23.        ,\n",
              "       12.063     , 11.        , 20.        , 17.        , 15.        ,\n",
              "       12.        , 19.        , 12.733     ,  0.        ,  4.2       ,\n",
              "       10.        , 13.1       , 12.57663636, 23.6       , 12.57663636,\n",
              "        9.3       ,  4.7       , 17.5       , 12.57663636, 12.57663636,\n",
              "       21.3       , 12.57663636, 14.        , 12.57663636,  9.4       ,\n",
              "       24.6       , 15.6       , 13.        , 18.6       ,  9.8       ,\n",
              "       11.9       , 12.        , 13.2       ,  9.7       ,  8.8       ,\n",
              "       16.1       , 12.2       , 11.        , 10.2       ,  7.5       ,\n",
              "       17.9       , 19.4       ,  7.1       , 16.8       , 10.        ,\n",
              "       12.57663636,  5.5       ,  9.1       ,  9.4       ,  4.8       ,\n",
              "        8.5       , 28.9       , 12.57663636,  0.        ,  6.9       ,\n",
              "       14.3       ,  9.7       , 40.        ,  7.6       ])"
            ]
          },
          "metadata": {},
          "execution_count": 19
        }
      ]
    },
    {
      "cell_type": "code",
      "source": [
        "df[\"lvdd\"].fillna(value=df[\"lvdd\"].mean(), inplace=True)"
      ],
      "metadata": {
        "id": "DtBXQAZLH41-"
      },
      "execution_count": null,
      "outputs": []
    },
    {
      "cell_type": "code",
      "source": [
        "df['lvdd'].values"
      ],
      "metadata": {
        "colab": {
          "base_uri": "https://localhost:8080/"
        },
        "id": "XQPrJfsNIAQv",
        "outputId": "10a4c611-b326-40d2-9abd-a83347c96788"
      },
      "execution_count": null,
      "outputs": [
        {
          "output_type": "execute_result",
          "data": {
            "text/plain": [
              "array([4.6       , 4.1       , 3.42      , 4.603     , 5.75      ,\n",
              "       4.31      , 5.43      , 5.25      , 5.09      , 4.49      ,\n",
              "       4.23      , 3.6       , 4.        , 3.73      , 5.8       ,\n",
              "       4.29      , 4.65      , 5.2       , 5.819     , 5.4       ,\n",
              "       5.39      , 5.46      , 6.06      , 4.65      , 4.16      ,\n",
              "       4.78591176, 4.07      , 5.31      , 4.78591176, 3.88      ,\n",
              "       3.63      , 4.49      , 4.27      , 3.59      , 4.78591176,\n",
              "       6.29      , 4.78591176, 5.        , 4.78591176, 3.49      ,\n",
              "       5.65      , 6.15      , 4.57      , 4.37      , 5.3       ,\n",
              "       5.15      , 5.02      , 5.26      , 5.57      , 5.78      ,\n",
              "       5.62      , 5.2       , 4.72      , 4.31      , 4.75      ,\n",
              "       4.54      , 4.77      , 4.58      , 4.16      , 4.44      ,\n",
              "       4.78591176, 4.48      , 4.04      , 4.02      , 4.56      ,\n",
              "       5.47      , 6.73      , 4.23      , 4.55      , 3.52      ,\n",
              "       5.49      , 4.29      , 6.23      , 4.42      ])"
            ]
          },
          "metadata": {},
          "execution_count": 21
        }
      ]
    },
    {
      "cell_type": "code",
      "source": [
        "df[\"wall-motion-score\"].fillna(value=df[\"wall-motion-score\"].mean(), inplace=True)"
      ],
      "metadata": {
        "id": "sTBoPSUoIGR7"
      },
      "execution_count": null,
      "outputs": []
    },
    {
      "cell_type": "code",
      "source": [
        "df['wall-motion-score'].values"
      ],
      "metadata": {
        "colab": {
          "base_uri": "https://localhost:8080/"
        },
        "id": "65wjBoPJIHlK",
        "outputId": "3491fbd1-7513-4e39-f49b-52c64d0a2aac"
      },
      "execution_count": null,
      "outputs": [
        {
          "output_type": "execute_result",
          "data": {
            "text/plain": [
              "array([14.        , 14.        , 14.        , 16.        , 18.        ,\n",
              "       12.        , 22.5       , 14.        , 16.        , 15.5       ,\n",
              "       18.        , 16.        , 14.        , 14.        , 11.67      ,\n",
              "       14.        , 18.        , 24.        ,  8.        , 27.        ,\n",
              "       19.5       , 13.83      ,  7.5       ,  8.        , 14.        ,\n",
              "       14.        , 13.        ,  5.        , 21.5       , 15.        ,\n",
              "       11.        , 22.        , 13.        , 14.        ,  9.        ,\n",
              "       17.        , 23.        , 15.34808219,  9.        , 14.        ,\n",
              "       39.        , 14.        , 13.        , 12.33      , 23.        ,\n",
              "       10.5       , 13.        , 11.        ,  5.5       , 12.        ,\n",
              "       13.67      , 24.        , 11.        , 15.        , 13.        ,\n",
              "       16.5       , 21.        , 14.        , 18.        , 15.        ,\n",
              "       28.        , 22.        ,  9.        , 15.67      , 12.5       ,\n",
              "       16.        , 26.08      , 12.        , 10.        , 18.16      ,\n",
              "       13.5       , 11.        , 14.        , 14.        ])"
            ]
          },
          "metadata": {},
          "execution_count": 23
        }
      ]
    },
    {
      "cell_type": "code",
      "source": [
        "df[\"wall-motion-index\"].fillna(value=df[\"wall-motion-index\"].mean(), inplace=True)"
      ],
      "metadata": {
        "id": "BMc89osDIKZJ"
      },
      "execution_count": null,
      "outputs": []
    },
    {
      "cell_type": "code",
      "source": [
        "df['wall-motion-index'].values"
      ],
      "metadata": {
        "colab": {
          "base_uri": "https://localhost:8080/"
        },
        "id": "z_FgstykINaH",
        "outputId": "b3ecea7b-3512-46b1-9e34-f8f300506a79"
      },
      "execution_count": null,
      "outputs": [
        {
          "output_type": "execute_result",
          "data": {
            "text/plain": [
              "array([1.        , 1.7       , 1.        , 1.45      , 2.25      ,\n",
              "       1.        , 1.875     , 1.        , 1.14      , 1.19      ,\n",
              "       1.8       , 1.14      , 1.        , 1.        , 2.33      ,\n",
              "       1.        , 1.64      , 2.        , 1.333     , 2.25      ,\n",
              "       1.625     , 1.38      , 1.5       , 1.        , 1.56      ,\n",
              "       1.17      , 1.625     , 1.        , 2.15      , 1.67      ,\n",
              "       1.222     , 2.        , 1.3       , 1.        , 1.25      ,\n",
              "       1.31      , 2.3       , 1.43379452, 1.5       , 1.        ,\n",
              "       3.        , 1.        , 1.08      , 1.37      , 2.3       ,\n",
              "       1.05      , 1.18      , 1.        , 1.1       , 1.        ,\n",
              "       1.367     , 2.18      , 1.        , 1.67      , 1.08      ,\n",
              "       1.18      , 2.1       , 1.        , 1.5       , 1.36      ,\n",
              "       2.33      , 1.83      , 1.        , 1.42      , 1.04      ,\n",
              "       1.45      , 2.01      , 1.        , 1.        , 1.51      ,\n",
              "       1.5       , 1.        , 1.4       , 1.        ])"
            ]
          },
          "metadata": {},
          "execution_count": 25
        }
      ]
    },
    {
      "cell_type": "code",
      "source": [
        "df[\"alive-at-1\"].values"
      ],
      "metadata": {
        "colab": {
          "base_uri": "https://localhost:8080/"
        },
        "id": "NuxCd7mhIQPL",
        "outputId": "fca5b4b3-eef7-4f00-a2a4-fff58784929b"
      },
      "execution_count": null,
      "outputs": [
        {
          "output_type": "execute_result",
          "data": {
            "text/plain": [
              "array([0, 0, 0, 0, 0, 0, 0, 0, 0, 0, 1, 0, 0, 0, 1, 0, 1, 1, 0, 1, 1, 1,\n",
              "       1, 1, 0, 0, 0, 0, 1, 0, 0, 0, 0, 0, 0, 0, 1, 1, 1, 0, 1, 0, 0, 0,\n",
              "       0, 0, 0, 0, 0, 0, 0, 1, 0, 0, 0, 0, 1, 0, 0, 1, 1, 0, 0, 1, 0, 1,\n",
              "       1, 0, 0, 1, 0, 0, 1, 1])"
            ]
          },
          "metadata": {},
          "execution_count": 26
        }
      ]
    },
    {
      "cell_type": "code",
      "source": [
        "print(df.describe())"
      ],
      "metadata": {
        "colab": {
          "base_uri": "https://localhost:8080/"
        },
        "id": "dT3jI8YwIUcA",
        "outputId": "9446258b-cdb0-4583-94eb-7cd429759b74"
      },
      "execution_count": null,
      "outputs": [
        {
          "output_type": "stream",
          "name": "stdout",
          "text": [
            "        survival  still-alive  age-at-heart-attack  pericardial-effusion  \\\n",
            "count  74.000000    74.000000            74.000000             74.000000   \n",
            "mean   21.781233     0.391892            64.349712              0.202703   \n",
            "std    17.672801     0.491505             8.286179              0.404757   \n",
            "min     0.030000     0.000000            46.000000              0.000000   \n",
            "25%     4.250000     0.000000            59.000000              0.000000   \n",
            "50%    19.750000     0.000000            63.000000              0.000000   \n",
            "75%    34.500000     1.000000            70.000000              0.000000   \n",
            "max    57.000000     1.000000            86.000000              1.000000   \n",
            "\n",
            "       fractional-shortening       epss       lvdd  wall-motion-score  \\\n",
            "count              74.000000  74.000000  74.000000          74.000000   \n",
            "mean                0.219057  12.576636   4.785912          15.348082   \n",
            "std                 0.108172   6.861067   0.736326           5.559407   \n",
            "min                 0.010000   0.000000   3.420000           5.000000   \n",
            "25%                 0.150000   9.000000   4.290000          12.372500   \n",
            "50%                 0.219057  12.062500   4.685000          14.000000   \n",
            "75%                 0.267500  15.450000   5.307500          17.750000   \n",
            "max                 0.610000  40.000000   6.730000          39.000000   \n",
            "\n",
            "       wall-motion-index  alive-at-1  \n",
            "count          74.000000   74.000000  \n",
            "mean            1.433795    0.324324  \n",
            "std             0.459144    0.471317  \n",
            "min             1.000000    0.000000  \n",
            "25%             1.000000    0.000000  \n",
            "50%             1.346500    0.000000  \n",
            "75%             1.662500    1.000000  \n",
            "max             3.000000    1.000000  \n"
          ]
        }
      ]
    },
    {
      "cell_type": "code",
      "source": [
        "print(df.isnull().sum().sum())"
      ],
      "metadata": {
        "colab": {
          "base_uri": "https://localhost:8080/"
        },
        "id": "R3otbhAMIf92",
        "outputId": "f049f586-70e5-42d7-e9b7-97539787525f"
      },
      "execution_count": null,
      "outputs": [
        {
          "output_type": "stream",
          "name": "stdout",
          "text": [
            "0\n"
          ]
        }
      ]
    },
    {
      "cell_type": "code",
      "source": [
        "X = df[['survival','still-alive','age-at-heart-attack','pericardial-effusion','fractional-shortening','epss','lvdd','wall-motion-score' ,'wall-motion-index']]\n",
        "y = df[[\"alive-at-1\"]]"
      ],
      "metadata": {
        "id": "MUly-XaoIjaW"
      },
      "execution_count": null,
      "outputs": []
    },
    {
      "cell_type": "markdown",
      "source": [
        "Feature Scaling"
      ],
      "metadata": {
        "id": "EW9AjmSVrInF"
      }
    },
    {
      "cell_type": "code",
      "source": [
        "from sklearn.model_selection import train_test_split\n",
        "xtrain, xtest, ytrain, ytest = train_test_split(X, y, test_size = 0.25, random_state = 0)"
      ],
      "metadata": {
        "id": "CKYE-si6IqH_"
      },
      "execution_count": null,
      "outputs": []
    },
    {
      "cell_type": "code",
      "source": [
        "from sklearn.preprocessing import StandardScaler\n",
        "sc_x = StandardScaler()\n",
        "xtrain = sc_x.fit_transform(xtrain)\n",
        "xtest = sc_x.transform(xtest)"
      ],
      "metadata": {
        "id": "bxe6Pyu2r5EI"
      },
      "execution_count": null,
      "outputs": []
    },
    {
      "cell_type": "markdown",
      "source": [
        "Training Model"
      ],
      "metadata": {
        "id": "WP7bf1MXLH41"
      }
    },
    {
      "cell_type": "code",
      "source": [
        "import matplotlib.pyplot as plt\n",
        "import numpy as np\n",
        "from sklearn.linear_model import LogisticRegression"
      ],
      "metadata": {
        "id": "Rm-tGGK3rnLc"
      },
      "execution_count": null,
      "outputs": []
    },
    {
      "cell_type": "code",
      "source": [
        "from sklearn.linear_model import LogisticRegression\n",
        "classifier = LogisticRegression(random_state = 0)\n",
        "classifier.fit(xtrain, ytrain)\n"
      ],
      "metadata": {
        "colab": {
          "base_uri": "https://localhost:8080/"
        },
        "id": "5-1fcyxgIxjv",
        "outputId": "11b651df-f89e-4b52-de4f-c4f66f39db09"
      },
      "execution_count": null,
      "outputs": [
        {
          "output_type": "stream",
          "name": "stderr",
          "text": [
            "/usr/local/lib/python3.7/dist-packages/sklearn/utils/validation.py:993: DataConversionWarning: A column-vector y was passed when a 1d array was expected. Please change the shape of y to (n_samples, ), for example using ravel().\n",
            "  y = column_or_1d(y, warn=True)\n"
          ]
        },
        {
          "output_type": "execute_result",
          "data": {
            "text/plain": [
              "LogisticRegression(random_state=0)"
            ]
          },
          "metadata": {},
          "execution_count": 33
        }
      ]
    },
    {
      "cell_type": "markdown",
      "source": [
        "Predicting the test set results"
      ],
      "metadata": {
        "id": "R9nK67vjsJaV"
      }
    },
    {
      "cell_type": "code",
      "source": [
        "y_pred = classifier.predict(xtest)\n"
      ],
      "metadata": {
        "id": "QEDeFF1fJMnh"
      },
      "execution_count": null,
      "outputs": []
    },
    {
      "cell_type": "markdown",
      "source": [
        "# Confusion Matrix"
      ],
      "metadata": {
        "id": "fU4JvqaxsD99"
      }
    },
    {
      "cell_type": "code",
      "source": [
        "from sklearn.metrics import confusion_matrix\n",
        "cm = confusion_matrix(ytest, y_pred)\n",
        "print (\"Confusion Matrix : \\n\", cm)\n"
      ],
      "metadata": {
        "colab": {
          "base_uri": "https://localhost:8080/"
        },
        "id": "kTwdzf_FJQeR",
        "outputId": "28e82538-fed0-4e32-b985-9f39ed5919aa"
      },
      "execution_count": null,
      "outputs": [
        {
          "output_type": "stream",
          "name": "stdout",
          "text": [
            "Confusion Matrix : \n",
            " [[11  1]\n",
            " [ 0  7]]\n"
          ]
        }
      ]
    },
    {
      "cell_type": "markdown",
      "source": [
        "# Accuracy"
      ],
      "metadata": {
        "id": "86GocrYZsBHF"
      }
    },
    {
      "cell_type": "code",
      "source": [
        "from sklearn.metrics import accuracy_score\n",
        "print (\"Accuracy : \", accuracy_score(ytest, y_pred))\n"
      ],
      "metadata": {
        "colab": {
          "base_uri": "https://localhost:8080/"
        },
        "id": "6A9KzdEmJyga",
        "outputId": "c4f27935-23c7-49af-a1ce-fbb0c835c8c0"
      },
      "execution_count": null,
      "outputs": [
        {
          "output_type": "stream",
          "name": "stdout",
          "text": [
            "Accuracy :  0.9473684210526315\n"
          ]
        }
      ]
    },
    {
      "cell_type": "markdown",
      "source": [
        "# ROC Curve"
      ],
      "metadata": {
        "id": "oTzJKnGkecni"
      }
    },
    {
      "cell_type": "code",
      "source": [
        "from sklearn.metrics import roc_curve,auc\n",
        "fpr,tpr,_=roc_curve(ytest,y_pred)"
      ],
      "metadata": {
        "id": "4iM2akpwcC50"
      },
      "execution_count": null,
      "outputs": []
    },
    {
      "cell_type": "code",
      "source": [
        "roc_auc=auc(fpr,tpr)\n",
        "\n",
        "# Plot of a ROC curve for a specific class\n",
        "plt.figure()\n",
        "plt.plot(fpr, tpr, label='ROC curve (area = %0.2f)' % roc_auc)\n",
        "plt.plot([0, 1], [0, 1], 'k--')\n",
        "plt.xlim([0.0, 1.0])\n",
        "plt.ylim([0.0, 1.05])\n",
        "plt.xlabel('False Positive Rate')\n",
        "plt.ylabel('True Positive Rate')\n",
        "plt.title('ROC Curve')\n",
        "plt.legend(loc=\"lower right\")\n",
        "plt.show()"
      ],
      "metadata": {
        "colab": {
          "base_uri": "https://localhost:8080/",
          "height": 295
        },
        "id": "Nc0V7lyjcHGh",
        "outputId": "e38496e3-1cfd-4368-ef6e-1057ca348aec"
      },
      "execution_count": null,
      "outputs": [
        {
          "output_type": "display_data",
          "data": {
            "text/plain": [
              "<Figure size 432x288 with 1 Axes>"
            ],
            "image/png": "[encoded data removed]"
          },
          "metadata": {
            "needs_background": "light"
          }
        }
      ]
    },
    {
      "cell_type": "markdown",
      "source": [
        "# AUC Curve"
      ],
      "metadata": {
        "id": "X5cBXAW3uMFz"
      }
    },
    {
      "cell_type": "code",
      "source": [
        "from sklearn import metrics\n",
        "from sklearn.metrics import classification_report\n",
        "y_pred_proba = classifier.predict_proba(xtest)[::,1]\n",
        "fpr, tpr, _ = metrics.roc_curve(ytest,  y_pred_proba)\n",
        "auc = metrics.roc_auc_score(ytest, y_pred_proba)\n",
        "\n",
        "#create ROC curve\n",
        "plt.plot(fpr,tpr,label=\"AUC=\"+str(auc))\n",
        "plt.ylabel('True Positive Rate')\n",
        "plt.xlabel('False Positive Rate')\n",
        "plt.legend(loc=4)\n",
        "plt.show()"
      ],
      "metadata": {
        "colab": {
          "base_uri": "https://localhost:8080/",
          "height": 279
        },
        "id": "suCHhIpwdQBm",
        "outputId": "431acc00-3c0e-40fe-979d-a8ab2b318c91"
      },
      "execution_count": null,
      "outputs": [
        {
          "output_type": "display_data",
          "data": {
            "text/plain": [
              "<Figure size 432x288 with 1 Axes>"
            ],
            "image/png": "[encoded data removed]"
          },
          "metadata": {
            "needs_background": "light"
          }
        }
      ]
    },
    {
      "cell_type": "markdown",
      "source": [
        "When 0.5<AUC<1, there is a high chance that the classifier will be able to distinguish the positive class values from the negative class values. This is so because the classifier is able to detect more numbers of True positives and True negatives than False negatives and False positives."
      ],
      "metadata": {
        "id": "06LyVZxZeIed"
      }
    },
    {
      "cell_type": "markdown",
      "source": [
        "# Precision & Recall Value"
      ],
      "metadata": {
        "id": "grhFUTb5ulJb"
      }
    },
    {
      "cell_type": "code",
      "source": [
        "from sklearn.metrics import precision_score, recall_score\n",
        "print(\"Precision:\", precision_score(ytest, y_pred))\n",
        "print(\"Recall value:\", recall_score(ytest, y_pred))"
      ],
      "metadata": {
        "colab": {
          "base_uri": "https://localhost:8080/"
        },
        "id": "iRdSy1qkuqgG",
        "outputId": "4a0bdbb3-2c82-40d4-aefe-cec689dd3aa5"
      },
      "execution_count": null,
      "outputs": [
        {
          "output_type": "stream",
          "name": "stdout",
          "text": [
            "Precision: 0.875\n",
            "Recall value: 1.0\n"
          ]
        }
      ]
    },
    {
      "cell_type": "code",
      "source": [
        "from sklearn.metrics import f1_score\n",
        "print(\"F1 Score:\", f1_score(ytest, y_pred))"
      ],
      "metadata": {
        "colab": {
          "base_uri": "https://localhost:8080/"
        },
        "id": "wzSk_OUlu0Qq",
        "outputId": "89213cce-2a4e-4028-b788-05c003104d01"
      },
      "execution_count": null,
      "outputs": [
        {
          "output_type": "stream",
          "name": "stdout",
          "text": [
            "F1 Score: 0.9333333333333333\n"
          ]
        }
      ]
    }
  ]
}