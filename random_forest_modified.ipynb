{
  "nbformat": 4,
  "nbformat_minor": 0,
  "metadata": {
    "colab": {
      "provenance": []
    },
    "kernelspec": {
      "name": "python3",
      "display_name": "Python 3"
    },
    "language_info": {
      "name": "python"
    }
  },
  "cells": [
    {
      "cell_type": "code",
      "execution_count": null,
      "metadata": {
        "id": "6qgkS5ZAXLj3"
      },
      "outputs": [],
      "source": [
        "import numpy as np\n",
        "import matplotlib.pyplot as plt\n",
        "import pandas as pd"
      ]
    },
    {
      "cell_type": "code",
      "source": [
        "df = pd.read_csv('/content/echocardiogram.csv')"
      ],
      "metadata": {
        "id": "8vuqNSeMYFHd"
      },
      "execution_count": null,
      "outputs": []
    },
    {
      "cell_type": "code",
      "source": [
        "df"
      ],
      "metadata": {
        "colab": {
          "base_uri": "https://localhost:8080/",
          "height": 502
        },
        "id": "VKKs_wLThi1k",
        "outputId": "4c3f873e-27fa-45c2-d9cf-f181e982b1d2"
      },
      "execution_count": null,
      "outputs": [
        {
          "output_type": "execute_result",
          "data": {
            "text/plain": [
              "    survival  still-alive  age-at-heart-attack  pericardial-effusion  \\\n",
              "0      11.00            0                 71.0                     0   \n",
              "1      19.00            0                 72.0                     0   \n",
              "2      16.00            0                 55.0                     0   \n",
              "3      57.00            0                 60.0                     0   \n",
              "4      19.00            1                 57.0                     0   \n",
              "..       ...          ...                  ...                   ...   \n",
              "69      1.25            1                 63.0                     0   \n",
              "70     24.00            0                 59.0                     0   \n",
              "71     25.00            0                 57.0                     0   \n",
              "72      0.75            1                 78.0                     0   \n",
              "73      3.00            1                 62.0                     0   \n",
              "\n",
              "    fractional-shortening    epss   lvdd  wall-motion-score  \\\n",
              "0                   0.260   9.000  4.600              14.00   \n",
              "1                   0.380   6.000  4.100              14.00   \n",
              "2                   0.260   4.000  3.420              14.00   \n",
              "3                   0.253  12.062  4.603              16.00   \n",
              "4                   0.160  22.000  5.750              18.00   \n",
              "..                    ...     ...    ...                ...   \n",
              "69                  0.300   6.900  3.520              18.16   \n",
              "70                  0.170  14.300  5.490              13.50   \n",
              "71                  0.228   9.700  4.290              11.00   \n",
              "72                  0.230  40.000  6.230              14.00   \n",
              "73                  0.260   7.600  4.420              14.00   \n",
              "\n",
              "    wall-motion-index  alive-at-1  \n",
              "0                1.00           0  \n",
              "1                1.70           0  \n",
              "2                1.00           0  \n",
              "3                1.45           0  \n",
              "4                2.25           0  \n",
              "..                ...         ...  \n",
              "69               1.51           1  \n",
              "70               1.50           0  \n",
              "71               1.00           0  \n",
              "72               1.40           1  \n",
              "73               1.00           1  \n",
              "\n",
              "[74 rows x 10 columns]"
            ],
            "text/html": [
              "\n",
              "  <div id=\"df-ba48d21b-2946-4a36-97bb-7be22e2e59b5\">\n",
              "    <div class=\"colab-df-container\">\n",
              "      <div>\n",
              "<style scoped>\n",
              "    .dataframe tbody tr th:only-of-type {\n",
              "        vertical-align: middle;\n",
              "    }\n",
              "\n",
              "    .dataframe tbody tr th {\n",
              "        vertical-align: top;\n",
              "    }\n",
              "\n",
              "    .dataframe thead th {\n",
              "        text-align: right;\n",
              "    }\n",
              "</style>\n",
              "<table border=\"1\" class=\"dataframe\">\n",
              "  <thead>\n",
              "    <tr style=\"text-align: right;\">\n",
              "      <th></th>\n",
              "      <th>survival</th>\n",
              "      <th>still-alive</th>\n",
              "      <th>age-at-heart-attack</th>\n",
              "      <th>pericardial-effusion</th>\n",
              "      <th>fractional-shortening</th>\n",
              "      <th>epss</th>\n",
              "      <th>lvdd</th>\n",
              "      <th>wall-motion-score</th>\n",
              "      <th>wall-motion-index</th>\n",
              "      <th>alive-at-1</th>\n",
              "    </tr>\n",
              "  </thead>\n",
              "  <tbody>\n",
              "    <tr>\n",
              "      <th>0</th>\n",
              "      <td>11.00</td>\n",
              "      <td>0</td>\n",
              "      <td>71.0</td>\n",
              "      <td>0</td>\n",
              "      <td>0.260</td>\n",
              "      <td>9.000</td>\n",
              "      <td>4.600</td>\n",
              "      <td>14.00</td>\n",
              "      <td>1.00</td>\n",
              "      <td>0</td>\n",
              "    </tr>\n",
              "    <tr>\n",
              "      <th>1</th>\n",
              "      <td>19.00</td>\n",
              "      <td>0</td>\n",
              "      <td>72.0</td>\n",
              "      <td>0</td>\n",
              "      <td>0.380</td>\n",
              "      <td>6.000</td>\n",
              "      <td>4.100</td>\n",
              "      <td>14.00</td>\n",
              "      <td>1.70</td>\n",
              "      <td>0</td>\n",
              "    </tr>\n",
              "    <tr>\n",
              "      <th>2</th>\n",
              "      <td>16.00</td>\n",
              "      <td>0</td>\n",
              "      <td>55.0</td>\n",
              "      <td>0</td>\n",
              "      <td>0.260</td>\n",
              "      <td>4.000</td>\n",
              "      <td>3.420</td>\n",
              "      <td>14.00</td>\n",
              "      <td>1.00</td>\n",
              "      <td>0</td>\n",
              "    </tr>\n",
              "    <tr>\n",
              "      <th>3</th>\n",
              "      <td>57.00</td>\n",
              "      <td>0</td>\n",
              "      <td>60.0</td>\n",
              "      <td>0</td>\n",
              "      <td>0.253</td>\n",
              "      <td>12.062</td>\n",
              "      <td>4.603</td>\n",
              "      <td>16.00</td>\n",
              "      <td>1.45</td>\n",
              "      <td>0</td>\n",
              "    </tr>\n",
              "    <tr>\n",
              "      <th>4</th>\n",
              "      <td>19.00</td>\n",
              "      <td>1</td>\n",
              "      <td>57.0</td>\n",
              "      <td>0</td>\n",
              "      <td>0.160</td>\n",
              "      <td>22.000</td>\n",
              "      <td>5.750</td>\n",
              "      <td>18.00</td>\n",
              "      <td>2.25</td>\n",
              "      <td>0</td>\n",
              "    </tr>\n",
              "    <tr>\n",
              "      <th>...</th>\n",
              "      <td>...</td>\n",
              "      <td>...</td>\n",
              "      <td>...</td>\n",
              "      <td>...</td>\n",
              "      <td>...</td>\n",
              "      <td>...</td>\n",
              "      <td>...</td>\n",
              "      <td>...</td>\n",
              "      <td>...</td>\n",
              "      <td>...</td>\n",
              "    </tr>\n",
              "    <tr>\n",
              "      <th>69</th>\n",
              "      <td>1.25</td>\n",
              "      <td>1</td>\n",
              "      <td>63.0</td>\n",
              "      <td>0</td>\n",
              "      <td>0.300</td>\n",
              "      <td>6.900</td>\n",
              "      <td>3.520</td>\n",
              "      <td>18.16</td>\n",
              "      <td>1.51</td>\n",
              "      <td>1</td>\n",
              "    </tr>\n",
              "    <tr>\n",
              "      <th>70</th>\n",
              "      <td>24.00</td>\n",
              "      <td>0</td>\n",
              "      <td>59.0</td>\n",
              "      <td>0</td>\n",
              "      <td>0.170</td>\n",
              "      <td>14.300</td>\n",
              "      <td>5.490</td>\n",
              "      <td>13.50</td>\n",
              "      <td>1.50</td>\n",
              "      <td>0</td>\n",
              "    </tr>\n",
              "    <tr>\n",
              "      <th>71</th>\n",
              "      <td>25.00</td>\n",
              "      <td>0</td>\n",
              "      <td>57.0</td>\n",
              "      <td>0</td>\n",
              "      <td>0.228</td>\n",
              "      <td>9.700</td>\n",
              "      <td>4.290</td>\n",
              "      <td>11.00</td>\n",
              "      <td>1.00</td>\n",
              "      <td>0</td>\n",
              "    </tr>\n",
              "    <tr>\n",
              "      <th>72</th>\n",
              "      <td>0.75</td>\n",
              "      <td>1</td>\n",
              "      <td>78.0</td>\n",
              "      <td>0</td>\n",
              "      <td>0.230</td>\n",
              "      <td>40.000</td>\n",
              "      <td>6.230</td>\n",
              "      <td>14.00</td>\n",
              "      <td>1.40</td>\n",
              "      <td>1</td>\n",
              "    </tr>\n",
              "    <tr>\n",
              "      <th>73</th>\n",
              "      <td>3.00</td>\n",
              "      <td>1</td>\n",
              "      <td>62.0</td>\n",
              "      <td>0</td>\n",
              "      <td>0.260</td>\n",
              "      <td>7.600</td>\n",
              "      <td>4.420</td>\n",
              "      <td>14.00</td>\n",
              "      <td>1.00</td>\n",
              "      <td>1</td>\n",
              "    </tr>\n",
              "  </tbody>\n",
              "</table>\n",
              "<p>74 rows × 10 columns</p>\n",
              "</div>\n",
              "      <button class=\"colab-df-convert\" onclick=\"convertToInteractive('df-ba48d21b-2946-4a36-97bb-7be22e2e59b5')\"\n",
              "              title=\"Convert this dataframe to an interactive table.\"\n",
              "              style=\"display:none;\">\n",
              "        \n",
              "  <svg xmlns=\"http://www.w3.org/2000/svg\" height=\"24px\"viewBox=\"0 0 24 24\"\n",
              "       width=\"24px\">\n",
              "    <path d=\"M0 0h24v24H0V0z\" fill=\"none\"/>\n",
              "    <path d=\"M18.56 5.44l.94 2.06.94-2.06 2.06-.94-2.06-.94-.94-2.06-.94 2.06-2.06.94zm-11 1L8.5 8.5l.94-2.06 2.06-.94-2.06-.94L8.5 2.5l-.94 2.06-2.06.94zm10 10l.94 2.06.94-2.06 2.06-.94-2.06-.94-.94-2.06-.94 2.06-2.06.94z\"/><path d=\"M17.41 7.96l-1.37-1.37c-.4-.4-.92-.59-1.43-.59-.52 0-1.04.2-1.43.59L10.3 9.45l-7.72 7.72c-.78.78-.78 2.05 0 2.83L4 21.41c.39.39.9.59 1.41.59.51 0 1.02-.2 1.41-.59l7.78-7.78 2.81-2.81c.8-.78.8-2.07 0-2.86zM5.41 20L4 18.59l7.72-7.72 1.47 1.35L5.41 20z\"/>\n",
              "  </svg>\n",
              "      </button>\n",
              "      \n",
              "  <style>\n",
              "    .colab-df-container {\n",
              "      display:flex;\n",
              "      flex-wrap:wrap;\n",
              "      gap: 12px;\n",
              "    }\n",
              "\n",
              "    .colab-df-convert {\n",
              "      background-color: #E8F0FE;\n",
              "      border: none;\n",
              "      border-radius: 50%;\n",
              "      cursor: pointer;\n",
              "      display: none;\n",
              "      fill: #1967D2;\n",
              "      height: 32px;\n",
              "      padding: 0 0 0 0;\n",
              "      width: 32px;\n",
              "    }\n",
              "\n",
              "    .colab-df-convert:hover {\n",
              "      background-color: #E2EBFA;\n",
              "      box-shadow: 0px 1px 2px rgba(60, 64, 67, 0.3), 0px 1px 3px 1px rgba(60, 64, 67, 0.15);\n",
              "      fill: #174EA6;\n",
              "    }\n",
              "\n",
              "    [theme=dark] .colab-df-convert {\n",
              "      background-color: #3B4455;\n",
              "      fill: #D2E3FC;\n",
              "    }\n",
              "\n",
              "    [theme=dark] .colab-df-convert:hover {\n",
              "      background-color: #434B5C;\n",
              "      box-shadow: 0px 1px 3px 1px rgba(0, 0, 0, 0.15);\n",
              "      filter: drop-shadow(0px 1px 2px rgba(0, 0, 0, 0.3));\n",
              "      fill: #FFFFFF;\n",
              "    }\n",
              "  </style>\n",
              "\n",
              "      <script>\n",
              "        const buttonEl =\n",
              "          document.querySelector('#df-ba48d21b-2946-4a36-97bb-7be22e2e59b5 button.colab-df-convert');\n",
              "        buttonEl.style.display =\n",
              "          google.colab.kernel.accessAllowed ? 'block' : 'none';\n",
              "\n",
              "        async function convertToInteractive(key) {\n",
              "          const element = document.querySelector('#df-ba48d21b-2946-4a36-97bb-7be22e2e59b5');\n",
              "          const dataTable =\n",
              "            await google.colab.kernel.invokeFunction('convertToInteractive',\n",
              "                                                     [key], {});\n",
              "          if (!dataTable) return;\n",
              "\n",
              "          const docLinkHtml = 'Like what you see? Visit the ' +\n",
              "            '<a target=\"_blank\" href=https://colab.research.google.com/notebooks/data_table.ipynb>data table notebook</a>'\n",
              "            + ' to learn more about interactive tables.';\n",
              "          element.innerHTML = '';\n",
              "          dataTable['output_type'] = 'display_data';\n",
              "          await google.colab.output.renderOutput(dataTable, element);\n",
              "          const docLink = document.createElement('div');\n",
              "          docLink.innerHTML = docLinkHtml;\n",
              "          element.appendChild(docLink);\n",
              "        }\n",
              "      </script>\n",
              "    </div>\n",
              "  </div>\n",
              "  "
            ]
          },
          "metadata": {},
          "execution_count": 6
        }
      ]
    },
    {
      "cell_type": "code",
      "source": [
        "print(df.dtypes)"
      ],
      "metadata": {
        "colab": {
          "base_uri": "https://localhost:8080/"
        },
        "id": "-40KgZNOhkhs",
        "outputId": "c62b7ecb-e29e-4536-e52d-bb1b3e80bbe8"
      },
      "execution_count": null,
      "outputs": [
        {
          "output_type": "stream",
          "name": "stdout",
          "text": [
            "survival                 float64\n",
            "still-alive                int64\n",
            "age-at-heart-attack      float64\n",
            "pericardial-effusion       int64\n",
            "fractional-shortening    float64\n",
            "epss                     float64\n",
            "lvdd                     float64\n",
            "wall-motion-score        float64\n",
            "wall-motion-index        float64\n",
            "alive-at-1                 int64\n",
            "dtype: object\n"
          ]
        }
      ]
    },
    {
      "cell_type": "code",
      "source": [
        "df[\"survival\"].values"
      ],
      "metadata": {
        "colab": {
          "base_uri": "https://localhost:8080/"
        },
        "id": "jgYUmhArhqRB",
        "outputId": "b6d2c125-6ab7-4cb9-fb75-ffa457d4ee1b"
      },
      "execution_count": null,
      "outputs": [
        {
          "output_type": "execute_result",
          "data": {
            "text/plain": [
              "array([1.10e+01, 1.90e+01, 1.60e+01, 5.70e+01, 1.90e+01, 2.60e+01,\n",
              "       1.30e+01, 5.00e+01, 1.90e+01, 2.50e+01, 1.00e+01, 5.20e+01,\n",
              "       5.20e+01, 4.40e+01, 5.00e-01, 2.40e+01, 5.00e-01, 5.00e-01,\n",
              "       2.20e+01, 1.00e+00, 7.50e-01, 7.50e-01, 5.00e-01, 5.00e+00,\n",
              "       3.60e+01, 3.50e+01, 2.60e+01, 1.60e+01, 1.00e+00, 1.90e+01,\n",
              "       3.20e+01, 1.60e+01, 4.00e+01, 4.60e+01, 1.95e+01, 2.00e+01,\n",
              "       2.50e-01, 2.00e+00, 7.00e+00, 1.20e+01, 1.00e+00, 1.00e+01,\n",
              "       4.50e+01, 2.20e+01, 5.30e+01, 2.60e+01, 2.60e+01, 4.90e+01,\n",
              "       4.90e+01, 4.70e+01, 4.10e+01, 2.50e-01, 3.30e+01, 2.90e+01,\n",
              "       4.10e+01, 1.50e+01, 3.00e-02, 1.20e+01, 2.70e+01, 7.50e-01,\n",
              "       7.50e-01, 5.50e+01, 5.30e+01,      nan, 4.00e+01, 5.00e+00,\n",
              "       4.00e+00, 3.30e+01, 2.20e+01, 1.25e+00, 2.40e+01, 2.50e+01,\n",
              "       7.50e-01, 3.00e+00])"
            ]
          },
          "metadata": {},
          "execution_count": 8
        }
      ]
    },
    {
      "cell_type": "code",
      "source": [
        "df[\"still-alive\"].values"
      ],
      "metadata": {
        "colab": {
          "base_uri": "https://localhost:8080/"
        },
        "id": "WsQRl9muhyyZ",
        "outputId": "eb707ccc-e4d1-4ab9-a74f-fd6081533aea"
      },
      "execution_count": null,
      "outputs": [
        {
          "output_type": "execute_result",
          "data": {
            "text/plain": [
              "array([0, 0, 0, 0, 1, 0, 0, 0, 0, 0, 1, 0, 0, 0, 1, 0, 1, 1, 1, 1, 1, 1,\n",
              "       1, 1, 0, 0, 0, 0, 1, 0, 0, 0, 0, 0, 1, 1, 1, 1, 1, 0, 1, 0, 0, 0,\n",
              "       0, 0, 0, 0, 0, 0, 0, 1, 0, 0, 0, 0, 1, 0, 0, 1, 1, 0, 0, 1, 1, 1,\n",
              "       1, 0, 0, 1, 0, 0, 1, 1])"
            ]
          },
          "metadata": {},
          "execution_count": 9
        }
      ]
    },
    {
      "cell_type": "code",
      "source": [
        "df['age-at-heart-attack'].values"
      ],
      "metadata": {
        "colab": {
          "base_uri": "https://localhost:8080/"
        },
        "id": "uez7zAo3h1dA",
        "outputId": "b8731640-48df-46a0-e222-7f87f66cc528"
      },
      "execution_count": null,
      "outputs": [
        {
          "output_type": "execute_result",
          "data": {
            "text/plain": [
              "array([71.   , 72.   , 55.   , 60.   , 57.   , 68.   , 62.   , 60.   ,\n",
              "       46.   , 54.   , 77.   , 62.   , 73.   , 60.   , 62.   , 55.   ,\n",
              "       69.   , 62.529, 66.   , 66.   , 69.   , 85.   , 73.   , 71.   ,\n",
              "       55.   , 63.   , 61.   , 63.   , 65.   , 68.   , 54.   , 70.   ,\n",
              "       79.   , 56.   , 81.   , 59.   , 63.   , 56.   , 61.   , 58.   ,\n",
              "       60.   , 66.   , 63.   , 57.   , 70.   , 79.   , 72.   , 51.   ,\n",
              "       70.   , 65.   , 78.   , 86.   , 56.   , 60.   , 59.   , 54.   ,\n",
              "          nan, 64.   , 54.   , 78.   , 61.   , 55.   , 59.   , 61.   ,\n",
              "       74.   , 65.   , 58.   , 66.   , 70.   , 63.   , 59.   , 57.   ,\n",
              "       78.   , 62.   ])"
            ]
          },
          "metadata": {},
          "execution_count": 10
        }
      ]
    },
    {
      "cell_type": "code",
      "source": [
        "mean_values=df[['survival','still-alive']].mean()\n",
        "print(mean_values)"
      ],
      "metadata": {
        "colab": {
          "base_uri": "https://localhost:8080/"
        },
        "id": "oqlVHVYJh4Jx",
        "outputId": "ad8fd04d-2684-4db1-fd93-a65fe75223b0"
      },
      "execution_count": null,
      "outputs": [
        {
          "output_type": "stream",
          "name": "stdout",
          "text": [
            "survival       21.781233\n",
            "still-alive     0.391892\n",
            "dtype: float64\n"
          ]
        }
      ]
    },
    {
      "cell_type": "code",
      "source": [
        "df[\"survival\"].fillna(value=df[\"survival\"].mean(), inplace=True)"
      ],
      "metadata": {
        "id": "rqVFXCCqh6tv"
      },
      "execution_count": null,
      "outputs": []
    },
    {
      "cell_type": "code",
      "source": [
        "df['survival'].values"
      ],
      "metadata": {
        "colab": {
          "base_uri": "https://localhost:8080/"
        },
        "id": "dCIsi9CSh9L5",
        "outputId": "b1b4061e-afc3-46c4-a43c-db21cf6f7b8c"
      },
      "execution_count": null,
      "outputs": [
        {
          "output_type": "execute_result",
          "data": {
            "text/plain": [
              "array([1.10000000e+01, 1.90000000e+01, 1.60000000e+01, 5.70000000e+01,\n",
              "       1.90000000e+01, 2.60000000e+01, 1.30000000e+01, 5.00000000e+01,\n",
              "       1.90000000e+01, 2.50000000e+01, 1.00000000e+01, 5.20000000e+01,\n",
              "       5.20000000e+01, 4.40000000e+01, 5.00000000e-01, 2.40000000e+01,\n",
              "       5.00000000e-01, 5.00000000e-01, 2.20000000e+01, 1.00000000e+00,\n",
              "       7.50000000e-01, 7.50000000e-01, 5.00000000e-01, 5.00000000e+00,\n",
              "       3.60000000e+01, 3.50000000e+01, 2.60000000e+01, 1.60000000e+01,\n",
              "       1.00000000e+00, 1.90000000e+01, 3.20000000e+01, 1.60000000e+01,\n",
              "       4.00000000e+01, 4.60000000e+01, 1.95000000e+01, 2.00000000e+01,\n",
              "       2.50000000e-01, 2.00000000e+00, 7.00000000e+00, 1.20000000e+01,\n",
              "       1.00000000e+00, 1.00000000e+01, 4.50000000e+01, 2.20000000e+01,\n",
              "       5.30000000e+01, 2.60000000e+01, 2.60000000e+01, 4.90000000e+01,\n",
              "       4.90000000e+01, 4.70000000e+01, 4.10000000e+01, 2.50000000e-01,\n",
              "       3.30000000e+01, 2.90000000e+01, 4.10000000e+01, 1.50000000e+01,\n",
              "       3.00000000e-02, 1.20000000e+01, 2.70000000e+01, 7.50000000e-01,\n",
              "       7.50000000e-01, 5.50000000e+01, 5.30000000e+01, 2.17812329e+01,\n",
              "       4.00000000e+01, 5.00000000e+00, 4.00000000e+00, 3.30000000e+01,\n",
              "       2.20000000e+01, 1.25000000e+00, 2.40000000e+01, 2.50000000e+01,\n",
              "       7.50000000e-01, 3.00000000e+00])"
            ]
          },
          "metadata": {},
          "execution_count": 13
        }
      ]
    },
    {
      "cell_type": "code",
      "source": [
        "df[\"age-at-heart-attack\"].fillna(value=df[\"age-at-heart-attack\"].mean(), inplace=True)"
      ],
      "metadata": {
        "id": "oqyA0cCriAP3"
      },
      "execution_count": null,
      "outputs": []
    },
    {
      "cell_type": "code",
      "source": [
        "df['age-at-heart-attack'].values"
      ],
      "metadata": {
        "colab": {
          "base_uri": "https://localhost:8080/"
        },
        "id": "qFRFNqMfiCeN",
        "outputId": "d111701e-4223-4bad-beef-2b880598b75b"
      },
      "execution_count": null,
      "outputs": [
        {
          "output_type": "execute_result",
          "data": {
            "text/plain": [
              "array([71.        , 72.        , 55.        , 60.        , 57.        ,\n",
              "       68.        , 62.        , 60.        , 46.        , 54.        ,\n",
              "       77.        , 62.        , 73.        , 60.        , 62.        ,\n",
              "       55.        , 69.        , 62.529     , 66.        , 66.        ,\n",
              "       69.        , 85.        , 73.        , 71.        , 55.        ,\n",
              "       63.        , 61.        , 63.        , 65.        , 68.        ,\n",
              "       54.        , 70.        , 79.        , 56.        , 81.        ,\n",
              "       59.        , 63.        , 56.        , 61.        , 58.        ,\n",
              "       60.        , 66.        , 63.        , 57.        , 70.        ,\n",
              "       79.        , 72.        , 51.        , 70.        , 65.        ,\n",
              "       78.        , 86.        , 56.        , 60.        , 59.        ,\n",
              "       54.        , 64.34971233, 64.        , 54.        , 78.        ,\n",
              "       61.        , 55.        , 59.        , 61.        , 74.        ,\n",
              "       65.        , 58.        , 66.        , 70.        , 63.        ,\n",
              "       59.        , 57.        , 78.        , 62.        ])"
            ]
          },
          "metadata": {},
          "execution_count": 15
        }
      ]
    },
    {
      "cell_type": "code",
      "source": [
        "df[\"pericardial-effusion\"].fillna(value=df[\"pericardial-effusion\"].mean(), inplace=True)"
      ],
      "metadata": {
        "id": "adv296Z_iFSl"
      },
      "execution_count": null,
      "outputs": []
    },
    {
      "cell_type": "code",
      "source": [
        "df['pericardial-effusion'].values"
      ],
      "metadata": {
        "colab": {
          "base_uri": "https://localhost:8080/"
        },
        "id": "3LCAevbviIUV",
        "outputId": "d2bef662-d7aa-45d7-a142-c69d9797be6c"
      },
      "execution_count": null,
      "outputs": [
        {
          "output_type": "execute_result",
          "data": {
            "text/plain": [
              "array([0, 0, 0, 0, 0, 0, 0, 0, 0, 0, 0, 1, 0, 0, 0, 1, 1, 1, 0, 1, 0, 1,\n",
              "       0, 0, 1, 0, 0, 1, 0, 0, 0, 1, 0, 0, 0, 0, 1, 1, 1, 0, 0, 0, 0, 0,\n",
              "       0, 0, 0, 0, 1, 0, 0, 0, 0, 0, 0, 0, 0, 0, 1, 0, 0, 0, 0, 0, 0, 1,\n",
              "       0, 0, 0, 0, 0, 0, 0, 0])"
            ]
          },
          "metadata": {},
          "execution_count": 17
        }
      ]
    },
    {
      "cell_type": "code",
      "source": [
        "df[\"fractional-shortening\"].fillna(value=df[\"fractional-shortening\"].mean(), inplace=True)"
      ],
      "metadata": {
        "id": "9rg_SG9hiLDu"
      },
      "execution_count": null,
      "outputs": []
    },
    {
      "cell_type": "code",
      "source": [
        "df['fractional-shortening'].values"
      ],
      "metadata": {
        "colab": {
          "base_uri": "https://localhost:8080/"
        },
        "id": "Qf96XInJiOyO",
        "outputId": "6f9e46d8-dd89-404e-cbf8-d396f6bcc7a5"
      },
      "execution_count": null,
      "outputs": [
        {
          "output_type": "execute_result",
          "data": {
            "text/plain": [
              "array([0.26      , 0.38      , 0.26      , 0.253     , 0.16      ,\n",
              "       0.26      , 0.23      , 0.33      , 0.34      , 0.14      ,\n",
              "       0.13      , 0.45      , 0.33      , 0.15      , 0.12      ,\n",
              "       0.25      , 0.26      , 0.07      , 0.09      , 0.22      ,\n",
              "       0.15      , 0.18      , 0.23      , 0.17      , 0.21      ,\n",
              "       0.21905714, 0.61      , 0.21905714, 0.06      , 0.51      ,\n",
              "       0.35      , 0.27      , 0.15      , 0.33      , 0.12      ,\n",
              "       0.03      , 0.21905714, 0.04      , 0.27      , 0.3       ,\n",
              "       0.01      , 0.29      , 0.15      , 0.13      , 0.1       ,\n",
              "       0.17      , 0.187     , 0.16      , 0.25      , 0.36      ,\n",
              "       0.06      , 0.225     , 0.25      , 0.12      , 0.29      ,\n",
              "       0.217     , 0.26      , 0.2       , 0.07      , 0.05      ,\n",
              "       0.21905714, 0.28      , 0.344     , 0.2       , 0.2       ,\n",
              "       0.16      , 0.17      , 0.2       , 0.38      , 0.3       ,\n",
              "       0.17      , 0.228     , 0.23      , 0.26      ])"
            ]
          },
          "metadata": {},
          "execution_count": 19
        }
      ]
    },
    {
      "cell_type": "code",
      "source": [
        "df[\"epss\"].fillna(value=df[\"epss\"].mean(), inplace=True)"
      ],
      "metadata": {
        "id": "CtU58NvTiRRL"
      },
      "execution_count": null,
      "outputs": []
    },
    {
      "cell_type": "code",
      "source": [
        "df['epss'].values"
      ],
      "metadata": {
        "colab": {
          "base_uri": "https://localhost:8080/"
        },
        "id": "4volRKDfiTnc",
        "outputId": "d75c6a9f-2cc8-4ac6-b77c-6c97f1f34d66"
      },
      "execution_count": null,
      "outputs": [
        {
          "output_type": "execute_result",
          "data": {
            "text/plain": [
              "array([ 9.        ,  6.        ,  4.        , 12.062     , 22.        ,\n",
              "        5.        , 31.        ,  8.        ,  0.        , 13.        ,\n",
              "       16.        ,  9.        ,  6.        , 10.        , 23.        ,\n",
              "       12.063     , 11.        , 20.        , 17.        , 15.        ,\n",
              "       12.        , 19.        , 12.733     ,  0.        ,  4.2       ,\n",
              "       10.        , 13.1       , 12.57663636, 23.6       , 12.57663636,\n",
              "        9.3       ,  4.7       , 17.5       , 12.57663636, 12.57663636,\n",
              "       21.3       , 12.57663636, 14.        , 12.57663636,  9.4       ,\n",
              "       24.6       , 15.6       , 13.        , 18.6       ,  9.8       ,\n",
              "       11.9       , 12.        , 13.2       ,  9.7       ,  8.8       ,\n",
              "       16.1       , 12.2       , 11.        , 10.2       ,  7.5       ,\n",
              "       17.9       , 19.4       ,  7.1       , 16.8       , 10.        ,\n",
              "       12.57663636,  5.5       ,  9.1       ,  9.4       ,  4.8       ,\n",
              "        8.5       , 28.9       , 12.57663636,  0.        ,  6.9       ,\n",
              "       14.3       ,  9.7       , 40.        ,  7.6       ])"
            ]
          },
          "metadata": {},
          "execution_count": 21
        }
      ]
    },
    {
      "cell_type": "code",
      "source": [
        "df[\"lvdd\"].fillna(value=df[\"lvdd\"].mean(), inplace=True)"
      ],
      "metadata": {
        "id": "H9c65OfViWB8"
      },
      "execution_count": null,
      "outputs": []
    },
    {
      "cell_type": "code",
      "source": [
        "df['lvdd'].values"
      ],
      "metadata": {
        "colab": {
          "base_uri": "https://localhost:8080/"
        },
        "id": "KxztKz0FiY0g",
        "outputId": "855a078d-6b96-406d-eaee-9e7627afa288"
      },
      "execution_count": null,
      "outputs": [
        {
          "output_type": "execute_result",
          "data": {
            "text/plain": [
              "array([4.6       , 4.1       , 3.42      , 4.603     , 5.75      ,\n",
              "       4.31      , 5.43      , 5.25      , 5.09      , 4.49      ,\n",
              "       4.23      , 3.6       , 4.        , 3.73      , 5.8       ,\n",
              "       4.29      , 4.65      , 5.2       , 5.819     , 5.4       ,\n",
              "       5.39      , 5.46      , 6.06      , 4.65      , 4.16      ,\n",
              "       4.78591176, 4.07      , 5.31      , 4.78591176, 3.88      ,\n",
              "       3.63      , 4.49      , 4.27      , 3.59      , 4.78591176,\n",
              "       6.29      , 4.78591176, 5.        , 4.78591176, 3.49      ,\n",
              "       5.65      , 6.15      , 4.57      , 4.37      , 5.3       ,\n",
              "       5.15      , 5.02      , 5.26      , 5.57      , 5.78      ,\n",
              "       5.62      , 5.2       , 4.72      , 4.31      , 4.75      ,\n",
              "       4.54      , 4.77      , 4.58      , 4.16      , 4.44      ,\n",
              "       4.78591176, 4.48      , 4.04      , 4.02      , 4.56      ,\n",
              "       5.47      , 6.73      , 4.23      , 4.55      , 3.52      ,\n",
              "       5.49      , 4.29      , 6.23      , 4.42      ])"
            ]
          },
          "metadata": {},
          "execution_count": 23
        }
      ]
    },
    {
      "cell_type": "code",
      "source": [
        "df[\"wall-motion-score\"].fillna(value=df[\"wall-motion-score\"].mean(), inplace=True)"
      ],
      "metadata": {
        "id": "WyMxIvR3iby0"
      },
      "execution_count": null,
      "outputs": []
    },
    {
      "cell_type": "code",
      "source": [
        "df['wall-motion-score'].values"
      ],
      "metadata": {
        "colab": {
          "base_uri": "https://localhost:8080/"
        },
        "id": "shLI20FPifMr",
        "outputId": "e294d110-f287-4270-dc65-3b144af8b4d6"
      },
      "execution_count": null,
      "outputs": [
        {
          "output_type": "execute_result",
          "data": {
            "text/plain": [
              "array([14.        , 14.        , 14.        , 16.        , 18.        ,\n",
              "       12.        , 22.5       , 14.        , 16.        , 15.5       ,\n",
              "       18.        , 16.        , 14.        , 14.        , 11.67      ,\n",
              "       14.        , 18.        , 24.        ,  8.        , 27.        ,\n",
              "       19.5       , 13.83      ,  7.5       ,  8.        , 14.        ,\n",
              "       14.        , 13.        ,  5.        , 21.5       , 15.        ,\n",
              "       11.        , 22.        , 13.        , 14.        ,  9.        ,\n",
              "       17.        , 23.        , 15.34808219,  9.        , 14.        ,\n",
              "       39.        , 14.        , 13.        , 12.33      , 23.        ,\n",
              "       10.5       , 13.        , 11.        ,  5.5       , 12.        ,\n",
              "       13.67      , 24.        , 11.        , 15.        , 13.        ,\n",
              "       16.5       , 21.        , 14.        , 18.        , 15.        ,\n",
              "       28.        , 22.        ,  9.        , 15.67      , 12.5       ,\n",
              "       16.        , 26.08      , 12.        , 10.        , 18.16      ,\n",
              "       13.5       , 11.        , 14.        , 14.        ])"
            ]
          },
          "metadata": {},
          "execution_count": 25
        }
      ]
    },
    {
      "cell_type": "code",
      "source": [
        "df[\"wall-motion-index\"].fillna(value=df[\"wall-motion-index\"].mean(), inplace=True)"
      ],
      "metadata": {
        "id": "0WVBZ2Vzii3V"
      },
      "execution_count": null,
      "outputs": []
    },
    {
      "cell_type": "code",
      "source": [
        "df['wall-motion-index'].values"
      ],
      "metadata": {
        "colab": {
          "base_uri": "https://localhost:8080/"
        },
        "id": "oxAGHh8wil0S",
        "outputId": "d4eb8676-606e-4739-8849-e7d55922baef"
      },
      "execution_count": null,
      "outputs": [
        {
          "output_type": "execute_result",
          "data": {
            "text/plain": [
              "array([1.        , 1.7       , 1.        , 1.45      , 2.25      ,\n",
              "       1.        , 1.875     , 1.        , 1.14      , 1.19      ,\n",
              "       1.8       , 1.14      , 1.        , 1.        , 2.33      ,\n",
              "       1.        , 1.64      , 2.        , 1.333     , 2.25      ,\n",
              "       1.625     , 1.38      , 1.5       , 1.        , 1.56      ,\n",
              "       1.17      , 1.625     , 1.        , 2.15      , 1.67      ,\n",
              "       1.222     , 2.        , 1.3       , 1.        , 1.25      ,\n",
              "       1.31      , 2.3       , 1.43379452, 1.5       , 1.        ,\n",
              "       3.        , 1.        , 1.08      , 1.37      , 2.3       ,\n",
              "       1.05      , 1.18      , 1.        , 1.1       , 1.        ,\n",
              "       1.367     , 2.18      , 1.        , 1.67      , 1.08      ,\n",
              "       1.18      , 2.1       , 1.        , 1.5       , 1.36      ,\n",
              "       2.33      , 1.83      , 1.        , 1.42      , 1.04      ,\n",
              "       1.45      , 2.01      , 1.        , 1.        , 1.51      ,\n",
              "       1.5       , 1.        , 1.4       , 1.        ])"
            ]
          },
          "metadata": {},
          "execution_count": 27
        }
      ]
    },
    {
      "cell_type": "code",
      "source": [
        "df[\"alive-at-1\"].values"
      ],
      "metadata": {
        "colab": {
          "base_uri": "https://localhost:8080/"
        },
        "id": "X3-rAkgbil_d",
        "outputId": "3fb06c54-7073-4e6b-927c-c82aff4bc962"
      },
      "execution_count": null,
      "outputs": [
        {
          "output_type": "execute_result",
          "data": {
            "text/plain": [
              "array([0, 0, 0, 0, 0, 0, 0, 0, 0, 0, 1, 0, 0, 0, 1, 0, 1, 1, 0, 1, 1, 1,\n",
              "       1, 1, 0, 0, 0, 0, 1, 0, 0, 0, 0, 0, 0, 0, 1, 1, 1, 0, 1, 0, 0, 0,\n",
              "       0, 0, 0, 0, 0, 0, 0, 1, 0, 0, 0, 0, 1, 0, 0, 1, 1, 0, 0, 1, 0, 1,\n",
              "       1, 0, 0, 1, 0, 0, 1, 1])"
            ]
          },
          "metadata": {},
          "execution_count": 28
        }
      ]
    },
    {
      "cell_type": "code",
      "source": [
        "print(df.describe())"
      ],
      "metadata": {
        "colab": {
          "base_uri": "https://localhost:8080/"
        },
        "id": "JHv5o3NbisPX",
        "outputId": "6fc46283-502f-4d2b-c071-c2caba644816"
      },
      "execution_count": null,
      "outputs": [
        {
          "output_type": "stream",
          "name": "stdout",
          "text": [
            "        survival  still-alive  age-at-heart-attack  pericardial-effusion  \\\n",
            "count  74.000000    74.000000            74.000000             74.000000   \n",
            "mean   21.781233     0.391892            64.349712              0.202703   \n",
            "std    17.672801     0.491505             8.286179              0.404757   \n",
            "min     0.030000     0.000000            46.000000              0.000000   \n",
            "25%     4.250000     0.000000            59.000000              0.000000   \n",
            "50%    19.750000     0.000000            63.000000              0.000000   \n",
            "75%    34.500000     1.000000            70.000000              0.000000   \n",
            "max    57.000000     1.000000            86.000000              1.000000   \n",
            "\n",
            "       fractional-shortening       epss       lvdd  wall-motion-score  \\\n",
            "count              74.000000  74.000000  74.000000          74.000000   \n",
            "mean                0.219057  12.576636   4.785912          15.348082   \n",
            "std                 0.108172   6.861067   0.736326           5.559407   \n",
            "min                 0.010000   0.000000   3.420000           5.000000   \n",
            "25%                 0.150000   9.000000   4.290000          12.372500   \n",
            "50%                 0.219057  12.062500   4.685000          14.000000   \n",
            "75%                 0.267500  15.450000   5.307500          17.750000   \n",
            "max                 0.610000  40.000000   6.730000          39.000000   \n",
            "\n",
            "       wall-motion-index  alive-at-1  \n",
            "count          74.000000   74.000000  \n",
            "mean            1.433795    0.324324  \n",
            "std             0.459144    0.471317  \n",
            "min             1.000000    0.000000  \n",
            "25%             1.000000    0.000000  \n",
            "50%             1.346500    0.000000  \n",
            "75%             1.662500    1.000000  \n",
            "max             3.000000    1.000000  \n"
          ]
        }
      ]
    },
    {
      "cell_type": "code",
      "source": [
        "print(df.isnull().sum().sum())"
      ],
      "metadata": {
        "colab": {
          "base_uri": "https://localhost:8080/"
        },
        "id": "v4hesE0xiu16",
        "outputId": "65acadf3-a16d-4ba1-ec39-773cc36e76ff"
      },
      "execution_count": null,
      "outputs": [
        {
          "output_type": "stream",
          "name": "stdout",
          "text": [
            "0\n"
          ]
        }
      ]
    },
    {
      "cell_type": "code",
      "source": [
        "X = df[['survival','still-alive','age-at-heart-attack','pericardial-effusion','fractional-shortening','epss','lvdd','wall-motion-score' ,'wall-motion-index']]\n",
        "y = df[[\"alive-at-1\"]]"
      ],
      "metadata": {
        "id": "HE8chSrdixif"
      },
      "execution_count": null,
      "outputs": []
    },
    {
      "cell_type": "markdown",
      "source": [
        "Feature Scaling"
      ],
      "metadata": {
        "id": "w8DRyFv5pLby"
      }
    },
    {
      "cell_type": "code",
      "source": [
        "from sklearn.model_selection import train_test_split\n",
        "xtrain, xtest, ytrain, ytest = train_test_split(X, y, test_size = 0.25, random_state = 42)"
      ],
      "metadata": {
        "id": "9KXLo2_Ni5BM"
      },
      "execution_count": null,
      "outputs": []
    },
    {
      "cell_type": "markdown",
      "source": [
        "Training Model"
      ],
      "metadata": {
        "id": "XOLQk7HGlSeP"
      }
    },
    {
      "cell_type": "code",
      "source": [
        "from sklearn.preprocessing import StandardScaler\n",
        "sc = StandardScaler()\n",
        "X_train = sc.fit_transform(xtrain)\n",
        "X_test = sc.transform(ytest)"
      ],
      "metadata": {
        "colab": {
          "base_uri": "https://localhost:8080/",
          "height": 574
        },
        "id": "b9Z9CKBYMPMZ",
        "outputId": "31c336c4-cac4-4b3c-ffe6-ea1e27d34363"
      },
      "execution_count": null,
      "outputs": [
        {
          "output_type": "stream",
          "name": "stderr",
          "text": [
            "/usr/local/lib/python3.7/dist-packages/sklearn/base.py:493: FutureWarning: The feature names should match those that were passed during fit. Starting version 1.2, an error will be raised.\n",
            "Feature names unseen at fit time:\n",
            "- alive-at-1\n",
            "Feature names seen at fit time, yet now missing:\n",
            "- age-at-heart-attack\n",
            "- epss\n",
            "- fractional-shortening\n",
            "- lvdd\n",
            "- pericardial-effusion\n",
            "- ...\n",
            "\n",
            "  warnings.warn(message, FutureWarning)\n"
          ]
        },
        {
          "output_type": "error",
          "ename": "ValueError",
          "evalue": "ignored",
          "traceback": [
            "\u001b[0;31m---------------------------------------------------------------------------\u001b[0m",
            "\u001b[0;31mValueError\u001b[0m                                Traceback (most recent call last)",
            "\u001b[0;32m<ipython-input-35-f8265ab20424>\u001b[0m in \u001b[0;36m<module>\u001b[0;34m\u001b[0m\n\u001b[1;32m      2\u001b[0m \u001b[0msc\u001b[0m \u001b[0;34m=\u001b[0m \u001b[0mStandardScaler\u001b[0m\u001b[0;34m(\u001b[0m\u001b[0;34m)\u001b[0m\u001b[0;34m\u001b[0m\u001b[0;34m\u001b[0m\u001b[0m\n\u001b[1;32m      3\u001b[0m \u001b[0mX_train\u001b[0m \u001b[0;34m=\u001b[0m \u001b[0msc\u001b[0m\u001b[0;34m.\u001b[0m\u001b[0mfit_transform\u001b[0m\u001b[0;34m(\u001b[0m\u001b[0mxtrain\u001b[0m\u001b[0;34m)\u001b[0m\u001b[0;34m\u001b[0m\u001b[0;34m\u001b[0m\u001b[0m\n\u001b[0;32m----> 4\u001b[0;31m \u001b[0mX_test\u001b[0m \u001b[0;34m=\u001b[0m \u001b[0msc\u001b[0m\u001b[0;34m.\u001b[0m\u001b[0mtransform\u001b[0m\u001b[0;34m(\u001b[0m\u001b[0mytest\u001b[0m\u001b[0;34m)\u001b[0m\u001b[0;34m\u001b[0m\u001b[0;34m\u001b[0m\u001b[0m\n\u001b[0m",
            "\u001b[0;32m/usr/local/lib/python3.7/dist-packages/sklearn/preprocessing/_data.py\u001b[0m in \u001b[0;36mtransform\u001b[0;34m(self, X, copy)\u001b[0m\n\u001b[1;32m    978\u001b[0m             \u001b[0mestimator\u001b[0m\u001b[0;34m=\u001b[0m\u001b[0mself\u001b[0m\u001b[0;34m,\u001b[0m\u001b[0;34m\u001b[0m\u001b[0;34m\u001b[0m\u001b[0m\n\u001b[1;32m    979\u001b[0m             \u001b[0mdtype\u001b[0m\u001b[0;34m=\u001b[0m\u001b[0mFLOAT_DTYPES\u001b[0m\u001b[0;34m,\u001b[0m\u001b[0;34m\u001b[0m\u001b[0;34m\u001b[0m\u001b[0m\n\u001b[0;32m--> 980\u001b[0;31m             \u001b[0mforce_all_finite\u001b[0m\u001b[0;34m=\u001b[0m\u001b[0;34m\"allow-nan\"\u001b[0m\u001b[0;34m,\u001b[0m\u001b[0;34m\u001b[0m\u001b[0;34m\u001b[0m\u001b[0m\n\u001b[0m\u001b[1;32m    981\u001b[0m         )\n\u001b[1;32m    982\u001b[0m \u001b[0;34m\u001b[0m\u001b[0m\n",
            "\u001b[0;32m/usr/local/lib/python3.7/dist-packages/sklearn/base.py\u001b[0m in \u001b[0;36m_validate_data\u001b[0;34m(self, X, y, reset, validate_separately, **check_params)\u001b[0m\n\u001b[1;32m    583\u001b[0m \u001b[0;34m\u001b[0m\u001b[0m\n\u001b[1;32m    584\u001b[0m         \u001b[0;32mif\u001b[0m \u001b[0;32mnot\u001b[0m \u001b[0mno_val_X\u001b[0m \u001b[0;32mand\u001b[0m \u001b[0mcheck_params\u001b[0m\u001b[0;34m.\u001b[0m\u001b[0mget\u001b[0m\u001b[0;34m(\u001b[0m\u001b[0;34m\"ensure_2d\"\u001b[0m\u001b[0;34m,\u001b[0m \u001b[0;32mTrue\u001b[0m\u001b[0;34m)\u001b[0m\u001b[0;34m:\u001b[0m\u001b[0;34m\u001b[0m\u001b[0;34m\u001b[0m\u001b[0m\n\u001b[0;32m--> 585\u001b[0;31m             \u001b[0mself\u001b[0m\u001b[0;34m.\u001b[0m\u001b[0m_check_n_features\u001b[0m\u001b[0;34m(\u001b[0m\u001b[0mX\u001b[0m\u001b[0;34m,\u001b[0m \u001b[0mreset\u001b[0m\u001b[0;34m=\u001b[0m\u001b[0mreset\u001b[0m\u001b[0;34m)\u001b[0m\u001b[0;34m\u001b[0m\u001b[0;34m\u001b[0m\u001b[0m\n\u001b[0m\u001b[1;32m    586\u001b[0m \u001b[0;34m\u001b[0m\u001b[0m\n\u001b[1;32m    587\u001b[0m         \u001b[0;32mreturn\u001b[0m \u001b[0mout\u001b[0m\u001b[0;34m\u001b[0m\u001b[0;34m\u001b[0m\u001b[0m\n",
            "\u001b[0;32m/usr/local/lib/python3.7/dist-packages/sklearn/base.py\u001b[0m in \u001b[0;36m_check_n_features\u001b[0;34m(self, X, reset)\u001b[0m\n\u001b[1;32m    399\u001b[0m         \u001b[0;32mif\u001b[0m \u001b[0mn_features\u001b[0m \u001b[0;34m!=\u001b[0m \u001b[0mself\u001b[0m\u001b[0;34m.\u001b[0m\u001b[0mn_features_in_\u001b[0m\u001b[0;34m:\u001b[0m\u001b[0;34m\u001b[0m\u001b[0;34m\u001b[0m\u001b[0m\n\u001b[1;32m    400\u001b[0m             raise ValueError(\n\u001b[0;32m--> 401\u001b[0;31m                 \u001b[0;34mf\"X has {n_features} features, but {self.__class__.__name__} \"\u001b[0m\u001b[0;34m\u001b[0m\u001b[0;34m\u001b[0m\u001b[0m\n\u001b[0m\u001b[1;32m    402\u001b[0m                 \u001b[0;34mf\"is expecting {self.n_features_in_} features as input.\"\u001b[0m\u001b[0;34m\u001b[0m\u001b[0;34m\u001b[0m\u001b[0m\n\u001b[1;32m    403\u001b[0m             )\n",
            "\u001b[0;31mValueError\u001b[0m: X has 1 features, but StandardScaler is expecting 9 features as input."
          ]
        }
      ]
    },
    {
      "cell_type": "code",
      "source": [
        "from sklearn.ensemble import RandomForestClassifier\n",
        "classifier = RandomForestClassifier(n_estimators = 10, criterion = 'entropy', random_state = 0)\n",
        "classifier.fit(xtrain, ytrain)"
      ],
      "metadata": {
        "colab": {
          "base_uri": "https://localhost:8080/"
        },
        "id": "vKmO-vNOMZ0Y",
        "outputId": "54d99a5a-06ef-4aaf-f4c8-ee937e30cd17"
      },
      "execution_count": null,
      "outputs": [
        {
          "output_type": "stream",
          "name": "stderr",
          "text": [
            "/usr/local/lib/python3.7/dist-packages/ipykernel_launcher.py:3: DataConversionWarning: A column-vector y was passed when a 1d array was expected. Please change the shape of y to (n_samples,), for example using ravel().\n",
            "  This is separate from the ipykernel package so we can avoid doing imports until\n"
          ]
        },
        {
          "output_type": "execute_result",
          "data": {
            "text/plain": [
              "RandomForestClassifier(criterion='entropy', n_estimators=10, random_state=0)"
            ]
          },
          "metadata": {},
          "execution_count": 36
        }
      ]
    },
    {
      "cell_type": "code",
      "source": [
        "y_pred = classifier.predict(xtest)"
      ],
      "metadata": {
        "id": "h_I8hxZTMiep"
      },
      "execution_count": null,
      "outputs": []
    },
    {
      "cell_type": "code",
      "source": [
        "from sklearn.metrics import confusion_matrix, accuracy_score\n",
        "cm = confusion_matrix(ytest, ypred)\n",
        "print(cm)\n",
        "accuracy_score(ytest, ypred)"
      ],
      "metadata": {
        "colab": {
          "base_uri": "https://localhost:8080/",
          "height": 217
        },
        "id": "fuNTW55aMmiR",
        "outputId": "f06f67f5-fe2d-41cc-9d72-c75491dc0bd8"
      },
      "execution_count": null,
      "outputs": [
        {
          "output_type": "error",
          "ename": "NameError",
          "evalue": "ignored",
          "traceback": [
            "\u001b[0;31m---------------------------------------------------------------------------\u001b[0m",
            "\u001b[0;31mNameError\u001b[0m                                 Traceback (most recent call last)",
            "\u001b[0;32m<ipython-input-39-d69196577b04>\u001b[0m in \u001b[0;36m<module>\u001b[0;34m\u001b[0m\n\u001b[1;32m      1\u001b[0m \u001b[0;32mfrom\u001b[0m \u001b[0msklearn\u001b[0m\u001b[0;34m.\u001b[0m\u001b[0mmetrics\u001b[0m \u001b[0;32mimport\u001b[0m \u001b[0mconfusion_matrix\u001b[0m\u001b[0;34m,\u001b[0m \u001b[0maccuracy_score\u001b[0m\u001b[0;34m\u001b[0m\u001b[0;34m\u001b[0m\u001b[0m\n\u001b[0;32m----> 2\u001b[0;31m \u001b[0mcm\u001b[0m \u001b[0;34m=\u001b[0m \u001b[0mconfusion_matrix\u001b[0m\u001b[0;34m(\u001b[0m\u001b[0mytest\u001b[0m\u001b[0;34m,\u001b[0m \u001b[0mypred\u001b[0m\u001b[0;34m)\u001b[0m\u001b[0;34m\u001b[0m\u001b[0;34m\u001b[0m\u001b[0m\n\u001b[0m\u001b[1;32m      3\u001b[0m \u001b[0mprint\u001b[0m\u001b[0;34m(\u001b[0m\u001b[0mcm\u001b[0m\u001b[0;34m)\u001b[0m\u001b[0;34m\u001b[0m\u001b[0;34m\u001b[0m\u001b[0m\n\u001b[1;32m      4\u001b[0m \u001b[0maccuracy_score\u001b[0m\u001b[0;34m(\u001b[0m\u001b[0mytest\u001b[0m\u001b[0;34m,\u001b[0m \u001b[0mypred\u001b[0m\u001b[0;34m)\u001b[0m\u001b[0;34m\u001b[0m\u001b[0;34m\u001b[0m\u001b[0m\n",
            "\u001b[0;31mNameError\u001b[0m: name 'ypred' is not defined"
          ]
        }
      ]
    },
    {
      "cell_type": "code",
      "source": [],
      "metadata": {
        "id": "GLCNkfVjMnzw"
      },
      "execution_count": null,
      "outputs": []
    },
    {
      "cell_type": "code",
      "source": [
        "import pylab as pl\n",
        "from sklearn.utils import shuffle"
      ],
      "metadata": {
        "id": "wqqC6RovpHt4"
      },
      "execution_count": null,
      "outputs": []
    },
    {
      "cell_type": "code",
      "source": [
        "from sklearn import svm\n",
        "clf = svm.SVC(kernel='linear')\n",
        "\n",
        "clf.fit(xtrain, ytrain)\n",
        "\n",
        "y_pred = clf.predict(xtest)"
      ],
      "metadata": {
        "id": "0lE1N62ai-cX"
      },
      "execution_count": null,
      "outputs": []
    },
    {
      "cell_type": "markdown",
      "source": [
        "# Confusion Matrix"
      ],
      "metadata": {
        "id": "XWwFGlhdoouO"
      }
    },
    {
      "cell_type": "code",
      "source": [
        "from sklearn.metrics import confusion_matrix\n",
        "cm = confusion_matrix(ytest, y_pred)\n",
        "print(cm)"
      ],
      "metadata": {
        "id": "_jgh9S36rhOP"
      },
      "execution_count": null,
      "outputs": []
    },
    {
      "cell_type": "markdown",
      "source": [
        "# Accuracy"
      ],
      "metadata": {
        "id": "X9JkmTo8owGv"
      }
    },
    {
      "cell_type": "code",
      "source": [
        "from sklearn.metrics import accuracy_score\n",
        "accuracy_score(ytest, y_pred)\n",
        "predictions = [round(value) for value in y_pred]\n",
        "accuracy = accuracy_score(ytest, predictions)\n",
        "print(\"Accuracy: %.2f%%\" % (accuracy))"
      ],
      "metadata": {
        "id": "HzpS6trqow2h"
      },
      "execution_count": null,
      "outputs": []
    },
    {
      "cell_type": "markdown",
      "source": [
        "# ROC Curve"
      ],
      "metadata": {
        "id": "PiCAwl91pSIJ"
      }
    },
    {
      "cell_type": "code",
      "source": [
        "from sklearn.metrics import roc_curve,auc\n",
        "fpr,tpr,_=roc_curve(ytest,y_pred)"
      ],
      "metadata": {
        "id": "LqAk3d5zyPNi"
      },
      "execution_count": null,
      "outputs": []
    },
    {
      "cell_type": "code",
      "source": [
        "roc_auc=auc(fpr,tpr)\n",
        "\n",
        "# Plot of a ROC curve for a specific class\n",
        "plt.figure()\n",
        "plt.plot(fpr, tpr, label='ROC curve (area = %0.2f)' % roc_auc)\n",
        "plt.plot([0, 1], [0, 1], 'k--')\n",
        "plt.xlim([0.0, 1.0])\n",
        "plt.ylim([0.0, 1.05])\n",
        "plt.xlabel('False Positive Rate')\n",
        "plt.ylabel('True Positive Rate')\n",
        "plt.title('ROC Curve')\n",
        "plt.legend(loc=\"lower right\")\n",
        "plt.show()"
      ],
      "metadata": {
        "id": "pwuodi_XpZFo"
      },
      "execution_count": null,
      "outputs": []
    },
    {
      "cell_type": "markdown",
      "source": [
        "# Precision & Recall Value"
      ],
      "metadata": {
        "id": "yUdJ9L7WqQml"
      }
    },
    {
      "cell_type": "code",
      "source": [
        "from sklearn.metrics import precision_score, recall_score\n",
        "print(\"Precision:\", precision_score(ytest, y_pred))\n",
        "print(\"Recall value:\", recall_score(ytest, y_pred))"
      ],
      "metadata": {
        "id": "xTkR-LhUqUtV"
      },
      "execution_count": null,
      "outputs": []
    },
    {
      "cell_type": "code",
      "source": [
        "from sklearn.metrics import f1_score\n",
        "print(\"F1 Score:\", f1_score(ytest, y_pred))"
      ],
      "metadata": {
        "id": "MaDkgxAzqs1o"
      },
      "execution_count": null,
      "outputs": []
    }
  ]
}